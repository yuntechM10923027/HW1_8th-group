{
 "cells": [
  {
   "cell_type": "code",
   "execution_count": 1,
   "id": "b01ba12e",
   "metadata": {
    "ExecuteTime": {
     "end_time": "2021-04-14T11:50:52.659143Z",
     "start_time": "2021-04-14T11:50:50.113569Z"
    }
   },
   "outputs": [],
   "source": [
    "import numpy as np\n",
    "import pandas as pd\n",
    "import matplotlib.pyplot as plt\n",
    "\n",
    "import tensorflow as tf\n",
    "from tensorflow.keras.models import Model,Sequential\n",
    "from tensorflow.keras.layers import Input, Dense, Activation,Dropout,Conv1D,MaxPooling1D,LSTM,BatchNormalization\n",
    "\n",
    "from keras import metrics,layers\n",
    "from keras.datasets import mnist\n",
    "from keras.utils import np_utils\n",
    "from keras.models import Sequential\n",
    "from keras.optimizers import Adam\n",
    "\n",
    "from sklearn.model_selection import train_test_split\n",
    "from sklearn.preprocessing import LabelEncoder,MinMaxScaler\n",
    "\n",
    "labelencoder = LabelEncoder()\n",
    "scaler = MinMaxScaler()"
   ]
  },
  {
   "cell_type": "code",
   "execution_count": 2,
   "id": "444daf46",
   "metadata": {
    "ExecuteTime": {
     "end_time": "2021-04-14T11:50:52.789119Z",
     "start_time": "2021-04-14T11:50:52.660134Z"
    },
    "scrolled": true
   },
   "outputs": [],
   "source": [
    "df = pd.read_csv('adult.data',header=None,encoding='utf-8')\n",
    "td = pd.read_csv('adult.test',header=None,encoding='utf-8')"
   ]
  },
  {
   "cell_type": "code",
   "execution_count": 3,
   "id": "9bf9a602",
   "metadata": {
    "ExecuteTime": {
     "end_time": "2021-04-14T11:50:52.889019Z",
     "start_time": "2021-04-14T11:50:52.790076Z"
    }
   },
   "outputs": [],
   "source": [
    "df.columns=['age', 'workclass', 'fnlwgt', 'education', 'education-num','marital-status','occupation','relationship','race','sex','capital-gain','capital-loss','hours-per-week','native-country','salary']\n",
    "td.columns=['age', 'workclass', 'fnlwgt', 'education', 'education-num','marital-status','occupation','relationship','race','sex','capital-gain','capital-loss','hours-per-week','native-country','salary']"
   ]
  },
  {
   "cell_type": "code",
   "execution_count": 4,
   "id": "967f6228",
   "metadata": {
    "ExecuteTime": {
     "end_time": "2021-04-14T11:50:52.953101Z",
     "start_time": "2021-04-14T11:50:52.891018Z"
    }
   },
   "outputs": [],
   "source": [
    "df=df.replace({' ?':np.nan}).dropna()"
   ]
  },
  {
   "cell_type": "code",
   "execution_count": 5,
   "id": "542a13a3",
   "metadata": {
    "ExecuteTime": {
     "end_time": "2021-04-14T11:50:52.963063Z",
     "start_time": "2021-04-14T11:50:52.954070Z"
    }
   },
   "outputs": [],
   "source": [
    "df_y=pd.get_dummies(df['education'])\n",
    "td_y=pd.get_dummies(td['education'])"
   ]
  },
  {
   "cell_type": "code",
   "execution_count": 6,
   "id": "6c7a911e",
   "metadata": {
    "ExecuteTime": {
     "end_time": "2021-04-14T11:50:52.985057Z",
     "start_time": "2021-04-14T11:50:52.964055Z"
    }
   },
   "outputs": [],
   "source": [
    "df=df.drop('education',axis=1)\n",
    "df=df.drop('education-num',axis=1)\n",
    "\n",
    "td=td.drop('education',axis=1)\n",
    "td=td.drop('education-num',axis=1)"
   ]
  },
  {
   "cell_type": "code",
   "execution_count": 7,
   "id": "e68ee289",
   "metadata": {
    "ExecuteTime": {
     "end_time": "2021-04-14T11:50:53.071033Z",
     "start_time": "2021-04-14T11:50:52.986040Z"
    }
   },
   "outputs": [],
   "source": [
    "df['workclass'] = labelencoder.fit_transform(df['workclass'])\n",
    "df['marital-status'] = labelencoder.fit_transform(df['marital-status'])\n",
    "df['occupation'] = labelencoder.fit_transform(df['occupation'])\n",
    "df['relationship'] = labelencoder.fit_transform(df['relationship'])\n",
    "df['sex'] = labelencoder.fit_transform(df['sex'])\n",
    "df['native-country'] = labelencoder.fit_transform(df['native-country'])\n",
    "df['salary'] = labelencoder.fit_transform(df['salary'])\n",
    "df['race'] = labelencoder.fit_transform(df['race'])\n",
    "\n",
    "td['workclass'] = labelencoder.fit_transform(td['workclass'])\n",
    "td['marital-status'] = labelencoder.fit_transform(td['marital-status'])\n",
    "td['occupation'] = labelencoder.fit_transform(td['occupation'])\n",
    "td['relationship'] = labelencoder.fit_transform(td['relationship'])\n",
    "td['sex'] = labelencoder.fit_transform(td['sex'])\n",
    "td['native-country'] = labelencoder.fit_transform(td['native-country'])\n",
    "td['salary'] = labelencoder.fit_transform(td['salary'])\n",
    "td['race'] = labelencoder.fit_transform(td['race'])"
   ]
  },
  {
   "cell_type": "code",
   "execution_count": 8,
   "id": "e27e749b",
   "metadata": {
    "ExecuteTime": {
     "end_time": "2021-04-14T11:50:53.099988Z",
     "start_time": "2021-04-14T11:50:53.072991Z"
    }
   },
   "outputs": [],
   "source": [
    "scaler = MinMaxScaler()\n",
    "\n",
    "#訓練集\n",
    "train1 = scaler.fit_transform(df)\n",
    "df = pd.DataFrame(train1,columns=df.columns)\n",
    "\n",
    "#驗證集\n",
    "train1 = scaler.fit_transform(td)\n",
    "td = pd.DataFrame(train1,columns=td.columns)"
   ]
  },
  {
   "cell_type": "code",
   "execution_count": 9,
   "id": "8e2e5c63",
   "metadata": {
    "ExecuteTime": {
     "end_time": "2021-04-14T11:50:53.112981Z",
     "start_time": "2021-04-14T11:50:53.101976Z"
    }
   },
   "outputs": [],
   "source": [
    "x_train,x_test,y_train,y_test = train_test_split(df,df_y,test_size=0.2)"
   ]
  },
  {
   "cell_type": "code",
   "execution_count": 10,
   "id": "f378d44f",
   "metadata": {
    "ExecuteTime": {
     "end_time": "2021-04-14T11:50:53.138966Z",
     "start_time": "2021-04-14T11:50:53.113981Z"
    }
   },
   "outputs": [
    {
     "data": {
      "text/plain": [
       "(24129, 16)"
      ]
     },
     "execution_count": 10,
     "metadata": {},
     "output_type": "execute_result"
    }
   ],
   "source": [
    "y_train.shape"
   ]
  },
  {
   "cell_type": "code",
   "execution_count": 11,
   "id": "f25ae924",
   "metadata": {
    "ExecuteTime": {
     "end_time": "2021-04-14T11:50:53.400803Z",
     "start_time": "2021-04-14T11:50:53.139953Z"
    }
   },
   "outputs": [
    {
     "name": "stdout",
     "output_type": "stream",
     "text": [
      "Model: \"sequential\"\n",
      "_________________________________________________________________\n",
      "Layer (type)                 Output Shape              Param #   \n",
      "=================================================================\n",
      "dense (Dense)                (None, 16)                224       \n",
      "_________________________________________________________________\n",
      "batch_normalization (BatchNo (None, 16)                64        \n",
      "_________________________________________________________________\n",
      "dense_1 (Dense)              (None, 32)                544       \n",
      "_________________________________________________________________\n",
      "batch_normalization_1 (Batch (None, 32)                128       \n",
      "_________________________________________________________________\n",
      "dense_2 (Dense)              (None, 64)                2112      \n",
      "_________________________________________________________________\n",
      "batch_normalization_2 (Batch (None, 64)                256       \n",
      "_________________________________________________________________\n",
      "dense_3 (Dense)              (None, 64)                4160      \n",
      "_________________________________________________________________\n",
      "batch_normalization_3 (Batch (None, 64)                256       \n",
      "_________________________________________________________________\n",
      "dense_4 (Dense)              (None, 32)                2080      \n",
      "_________________________________________________________________\n",
      "batch_normalization_4 (Batch (None, 32)                128       \n",
      "_________________________________________________________________\n",
      "dense_5 (Dense)              (None, 16)                528       \n",
      "_________________________________________________________________\n",
      "dropout (Dropout)            (None, 16)                0         \n",
      "_________________________________________________________________\n",
      "dense_6 (Dense)              (None, 16)                272       \n",
      "=================================================================\n",
      "Total params: 10,752\n",
      "Trainable params: 10,336\n",
      "Non-trainable params: 416\n",
      "_________________________________________________________________\n"
     ]
    }
   ],
   "source": [
    "model = Sequential()\n",
    "\n",
    "model.add(Input(shape=(x_train.shape[1],)))\n",
    "model.add(Dense(units=16, kernel_initializer='he_uniform', activation='elu'))\n",
    "model.add(BatchNormalization())\n",
    "model.add(Dense(units=32, kernel_initializer='he_uniform', activation='elu')) \n",
    "model.add(BatchNormalization())\n",
    "model.add(Dense(units=64, kernel_initializer='he_uniform', activation='elu'))\n",
    "model.add(BatchNormalization())\n",
    "# model.add(Dense(units=128, kernel_initializer='he_uniform', activation='relu'))\n",
    "# model.add(BatchNormalization())\n",
    "model.add(Dense(units=64, kernel_initializer='he_uniform', activation='elu'))\n",
    "model.add(BatchNormalization())\n",
    "model.add(Dense(units=32, kernel_initializer='he_uniform', activation='elu'))\n",
    "model.add(BatchNormalization())\n",
    "model.add(Dense(units=16, kernel_initializer='he_uniform', activation='elu'))\n",
    "model.add(Dropout(0.1))\n",
    "model.add(Dense(y_train.shape[1],activation='softmax'))\n",
    "\n",
    "model.summary()\n"
   ]
  },
  {
   "cell_type": "code",
   "execution_count": 12,
   "id": "59bab786",
   "metadata": {
    "ExecuteTime": {
     "end_time": "2021-04-14T11:50:53.421800Z",
     "start_time": "2021-04-14T11:50:53.401803Z"
    }
   },
   "outputs": [],
   "source": [
    "precision=tf.keras.metrics.Precision(name='precision')\n",
    "recall=tf.keras.metrics.Recall(name='recall')\n",
    "accuracy=tf.keras.metrics.Accuracy(name='accuracy')\n",
    "callback = tf.keras.callbacks.EarlyStopping(monitor='recall',mode='max', patience=15 ,restore_best_weights=True)"
   ]
  },
  {
   "cell_type": "code",
   "execution_count": 13,
   "id": "62ddb134",
   "metadata": {
    "ExecuteTime": {
     "end_time": "2021-04-14T11:50:53.434827Z",
     "start_time": "2021-04-14T11:50:53.422789Z"
    }
   },
   "outputs": [],
   "source": [
    "Adam = tf.optimizers.Adam(lr=0.003, beta_1=0.9, beta_2=0.997, epsilon=1e-08, decay=0.0)"
   ]
  },
  {
   "cell_type": "code",
   "execution_count": 14,
   "id": "335713e1",
   "metadata": {
    "ExecuteTime": {
     "end_time": "2021-04-14T11:50:53.457830Z",
     "start_time": "2021-04-14T11:50:53.436826Z"
    }
   },
   "outputs": [],
   "source": [
    "model.compile(optimizer=Adam, \n",
    "              loss=tf.keras.losses.CategoricalCrossentropy(from_logits=True),\n",
    "              metrics = [precision,recall,accuracy]\n",
    "              )"
   ]
  },
  {
   "cell_type": "code",
   "execution_count": 15,
   "id": "b7b3e658",
   "metadata": {
    "ExecuteTime": {
     "end_time": "2021-04-14T11:52:01.708057Z",
     "start_time": "2021-04-14T11:50:53.458814Z"
    }
   },
   "outputs": [
    {
     "name": "stdout",
     "output_type": "stream",
     "text": [
      "Epoch 1/20\n",
      "2413/2413 [==============================] - 5s 1ms/step - loss: 2.1087 - precision: 0.4088 - recall: 0.0210 - accuracy: 0.0000e+00\n",
      "Epoch 2/20\n",
      "2413/2413 [==============================] - 3s 1ms/step - loss: 1.9071 - precision: 0.4351 - recall: 0.0105 - accuracy: 0.0000e+00\n",
      "Epoch 3/20\n",
      "2413/2413 [==============================] - 3s 1ms/step - loss: 1.8902 - precision: 0.3831 - recall: 0.0071 - accuracy: 0.0000e+00\n",
      "Epoch 4/20\n",
      "2413/2413 [==============================] - 3s 1ms/step - loss: 1.8715 - precision: 0.3943 - recall: 0.0091 - accuracy: 0.0000e+00\n",
      "Epoch 5/20\n",
      "2413/2413 [==============================] - 3s 1ms/step - loss: 1.8528 - precision: 0.4658 - recall: 0.0110 - accuracy: 0.0000e+00\n",
      "Epoch 6/20\n",
      "2413/2413 [==============================] - 3s 1ms/step - loss: 1.8530 - precision: 0.4800 - recall: 0.0139 - accuracy: 0.0000e+00\n",
      "Epoch 7/20\n",
      "2413/2413 [==============================] - 4s 1ms/step - loss: 1.8466 - precision: 0.4965 - recall: 0.0202 - accuracy: 0.0000e+00\n",
      "Epoch 8/20\n",
      "2413/2413 [==============================] - 4s 2ms/step - loss: 1.8394 - precision: 0.4384 - recall: 0.0126 - accuracy: 0.0000e+00\n",
      "Epoch 9/20\n",
      "2413/2413 [==============================] - 4s 1ms/step - loss: 1.8482 - precision: 0.4617 - recall: 0.0158 - accuracy: 0.0000e+00\n",
      "Epoch 10/20\n",
      "2413/2413 [==============================] - 3s 1ms/step - loss: 1.8473 - precision: 0.4155 - recall: 0.0126 - accuracy: 0.0000e+00\n",
      "Epoch 11/20\n",
      "2413/2413 [==============================] - 4s 1ms/step - loss: 1.8384 - precision: 0.4411 - recall: 0.0150 - accuracy: 0.0000e+00\n",
      "Epoch 12/20\n",
      "2413/2413 [==============================] - 3s 1ms/step - loss: 1.8381 - precision: 0.4420 - recall: 0.0192 - accuracy: 0.0000e+00\n",
      "Epoch 13/20\n",
      "2413/2413 [==============================] - 3s 1ms/step - loss: 1.8344 - precision: 0.4770 - recall: 0.0178 - accuracy: 0.0000e+00\n",
      "Epoch 14/20\n",
      "2413/2413 [==============================] - 3s 1ms/step - loss: 1.8293 - precision: 0.4140 - recall: 0.0153 - accuracy: 0.0000e+00\n",
      "Epoch 15/20\n",
      "2413/2413 [==============================] - 3s 1ms/step - loss: 1.8343 - precision: 0.4692 - recall: 0.0167 - accuracy: 0.0000e+00\n",
      "Epoch 16/20\n",
      "2413/2413 [==============================] - 3s 1ms/step - loss: 1.8061 - precision: 0.4420 - recall: 0.0201 - accuracy: 0.0000e+00\n",
      "Epoch 17/20\n",
      "2413/2413 [==============================] - 3s 1ms/step - loss: 1.8140 - precision: 0.4559 - recall: 0.0260 - accuracy: 0.0000e+00\n",
      "Epoch 18/20\n",
      "2413/2413 [==============================] - 3s 1ms/step - loss: 1.8077 - precision: 0.5169 - recall: 0.0234 - accuracy: 0.0000e+00\n",
      "Epoch 19/20\n",
      "2413/2413 [==============================] - 3s 1ms/step - loss: 1.8012 - precision: 0.4735 - recall: 0.0299 - accuracy: 0.0000e+00\n",
      "Epoch 20/20\n",
      "2413/2413 [==============================] - 3s 1ms/step - loss: 1.8061 - precision: 0.4875 - recall: 0.0363 - accuracy: 0.0000e+00\n"
     ]
    }
   ],
   "source": [
    "history = model.fit(x=x_train, y=y_train,epochs=20,batch_size =10, callbacks=[callback])"
   ]
  },
  {
   "cell_type": "code",
   "execution_count": 28,
   "id": "d34c11c4",
   "metadata": {
    "ExecuteTime": {
     "end_time": "2021-04-14T11:56:20.028216Z",
     "start_time": "2021-04-14T11:56:19.728389Z"
    },
    "scrolled": true
   },
   "outputs": [
    {
     "name": "stdout",
     "output_type": "stream",
     "text": [
      "189/189 [==============================] - 0s 686us/step - loss: 1.7439 - precision: 0.5812 - recall: 0.0522 - accuracy: 0.0000e+00\n",
      "Precision 0.5811808109283447\n",
      "Recall 0.052212830632925034\n",
      "F1 0.09581749249427012\n"
     ]
    },
    {
     "data": {
      "image/png": "[encoded data removed]",
      "text/plain": [
       "<Figure size 432x288 with 1 Axes>"
      ]
     },
     "metadata": {
      "needs_background": "light"
     },
     "output_type": "display_data"
    }
   ],
   "source": [
    "preds = model.evaluate(x = x_test, y = y_test)\n",
    "\n",
    "F1 = 2 * (preds[1] * preds[2]) / (preds[1] + preds[2])\n",
    "print('Precision', preds[1])\n",
    "print('Recall', preds[2])\n",
    "print('F1',F1)\n",
    "\n",
    "plt.plot(history.history['precision'])\n",
    "plt.plot(history.history['recall'])\n",
    "plt.title('model accuracy')\n",
    "plt.ylabel('%')\n",
    "plt.xlabel('epoch')\n",
    "plt.legend(['precision', 'recall'], loc='upper left')\n",
    "plt.show()"
   ]
  },
  {
   "cell_type": "code",
   "execution_count": null,
   "id": "8b6bc5da",
   "metadata": {},
   "outputs": [],
   "source": []
  },
  {
   "cell_type": "code",
   "execution_count": 17,
   "id": "748c37ee",
   "metadata": {
    "ExecuteTime": {
     "end_time": "2021-04-14T11:52:02.494304Z",
     "start_time": "2021-04-14T11:52:02.292721Z"
    }
   },
   "outputs": [
    {
     "name": "stdout",
     "output_type": "stream",
     "text": [
      "189/189 [==============================] - 0s 759us/step - loss: 1.7439 - precision: 0.5812 - recall: 0.0522 - accuracy: 0.0000e+00\n"
     ]
    }
   ],
   "source": [
    "y_test_predicted = model.evaluate(x_test,y_test)"
   ]
  },
  {
   "cell_type": "code",
   "execution_count": 18,
   "id": "7624342f",
   "metadata": {
    "ExecuteTime": {
     "end_time": "2021-04-14T11:52:02.500304Z",
     "start_time": "2021-04-14T11:52:02.495316Z"
    }
   },
   "outputs": [
    {
     "data": {
      "text/plain": [
       "[1.74392569065094, 0.5811808109283447, 0.052212830632925034, 0.0]"
      ]
     },
     "execution_count": 18,
     "metadata": {},
     "output_type": "execute_result"
    }
   ],
   "source": [
    "y_test_predicted"
   ]
  },
  {
   "cell_type": "code",
   "execution_count": 19,
   "id": "93cb8151",
   "metadata": {
    "ExecuteTime": {
     "end_time": "2021-04-14T11:52:02.954044Z",
     "start_time": "2021-04-14T11:52:02.501301Z"
    }
   },
   "outputs": [
    {
     "name": "stdout",
     "output_type": "stream",
     "text": [
      "509/509 [==============================] - 0s 750us/step - loss: 1.7718 - precision: 0.5645 - recall: 0.0395 - accuracy: 0.0000e+00\n"
     ]
    }
   ],
   "source": [
    "td_predicted = model.evaluate(td,td_y)"
   ]
  },
  {
   "cell_type": "code",
   "execution_count": 20,
   "id": "79b6a173",
   "metadata": {
    "ExecuteTime": {
     "end_time": "2021-04-14T11:52:02.960036Z",
     "start_time": "2021-04-14T11:52:02.955041Z"
    }
   },
   "outputs": [
    {
     "data": {
      "text/plain": [
       "[1.7717828750610352, 0.5645303130149841, 0.03949388861656189, 0.0]"
      ]
     },
     "execution_count": 20,
     "metadata": {},
     "output_type": "execute_result"
    }
   ],
   "source": [
    "td_predicted"
   ]
  },
  {
   "cell_type": "code",
   "execution_count": null,
   "id": "102aa883",
   "metadata": {},
   "outputs": [],
   "source": []
  }
 ],
 "metadata": {
  "kernelspec": {
   "display_name": "Python 3",
   "language": "python",
   "name": "python3"
  },
  "language_info": {
   "codemirror_mode": {
    "name": "ipython",
    "version": 3
   },
   "file_extension": ".py",
   "mimetype": "text/x-python",
   "name": "python",
   "nbconvert_exporter": "python",
   "pygments_lexer": "ipython3",
   "version": "3.8.8"
  },
  "toc": {
   "base_numbering": 1,
   "nav_menu": {},
   "number_sections": true,
   "sideBar": true,
   "skip_h1_title": false,
   "title_cell": "Table of Contents",
   "title_sidebar": "Contents",
   "toc_cell": false,
   "toc_position": {
    "height": "calc(100% - 180px)",
    "left": "10px",
    "top": "150px",
    "width": "320px"
   },
   "toc_section_display": true,
   "toc_window_display": false
  }
 },
 "nbformat": 4,
 "nbformat_minor": 5
}
