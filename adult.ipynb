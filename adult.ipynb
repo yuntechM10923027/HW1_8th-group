{
 "cells": [
  {
   "cell_type": "code",
   "execution_count": 1,
   "id": "b01ba12e",
   "metadata": {
    "ExecuteTime": {
     "end_time": "2021-04-15T12:21:07.530076Z",
     "start_time": "2021-04-15T12:21:04.714229Z"
    }
   },
   "outputs": [],
   "source": [
    "import numpy as np\n",
    "import pandas as pd\n",
    "import matplotlib.pyplot as plt\n",
    "\n",
    "import tensorflow as tf\n",
    "from tensorflow.keras.models import Model,Sequential\n",
    "from tensorflow.keras.layers import Input, Dense, Activation,Dropout,Conv1D,MaxPooling1D,LSTM,BatchNormalization\n",
    "\n",
    "from keras import metrics,layers\n",
    "from keras.datasets import mnist\n",
    "from keras.utils import np_utils\n",
    "from keras.models import Sequential\n",
    "from keras.optimizers import Adam\n",
    "\n",
    "from sklearn.model_selection import train_test_split\n",
    "from sklearn.preprocessing import LabelEncoder,MinMaxScaler\n",
    "\n",
    "labelencoder = LabelEncoder()\n",
    "scaler = MinMaxScaler()"
   ]
  },
  {
   "cell_type": "code",
   "execution_count": 2,
   "id": "444daf46",
   "metadata": {
    "ExecuteTime": {
     "end_time": "2021-04-15T12:21:07.626993Z",
     "start_time": "2021-04-15T12:21:07.531050Z"
    },
    "scrolled": true
   },
   "outputs": [],
   "source": [
    "df = pd.read_csv('adult.data',header=None,encoding='utf-8')\n",
    "td = pd.read_csv('adult.test',header=None,encoding='utf-8')"
   ]
  },
  {
   "cell_type": "code",
   "execution_count": 3,
   "id": "9bf9a602",
   "metadata": {
    "ExecuteTime": {
     "end_time": "2021-04-15T12:21:07.632989Z",
     "start_time": "2021-04-15T12:21:07.627992Z"
    }
   },
   "outputs": [],
   "source": [
    "df.columns=['age', 'workclass', 'fnlwgt', 'education', 'education-num','marital-status','occupation','relationship','race','sex','capital-gain','capital-loss','hours-per-week','native-country','salary']\n",
    "td.columns=['age', 'workclass', 'fnlwgt', 'education', 'education-num','marital-status','occupation','relationship','race','sex','capital-gain','capital-loss','hours-per-week','native-country','salary']"
   ]
  },
  {
   "cell_type": "code",
   "execution_count": 4,
   "id": "967f6228",
   "metadata": {
    "ExecuteTime": {
     "end_time": "2021-04-15T12:21:07.688032Z",
     "start_time": "2021-04-15T12:21:07.633988Z"
    }
   },
   "outputs": [],
   "source": [
    "df=df.replace({' ?':np.nan}).dropna()"
   ]
  },
  {
   "cell_type": "code",
   "execution_count": 5,
   "id": "542a13a3",
   "metadata": {
    "ExecuteTime": {
     "end_time": "2021-04-15T12:21:07.698042Z",
     "start_time": "2021-04-15T12:21:07.689035Z"
    }
   },
   "outputs": [],
   "source": [
    "df_y=pd.get_dummies(df['education'])\n",
    "td_y=pd.get_dummies(td['education'])"
   ]
  },
  {
   "cell_type": "code",
   "execution_count": 6,
   "id": "6c7a911e",
   "metadata": {
    "ExecuteTime": {
     "end_time": "2021-04-15T12:21:07.717018Z",
     "start_time": "2021-04-15T12:21:07.699028Z"
    }
   },
   "outputs": [],
   "source": [
    "df=df.drop('education',axis=1)\n",
    "df=df.drop('education-num',axis=1)\n",
    "\n",
    "td=td.drop('education',axis=1)\n",
    "td=td.drop('education-num',axis=1)"
   ]
  },
  {
   "cell_type": "code",
   "execution_count": 7,
   "id": "e68ee289",
   "metadata": {
    "ExecuteTime": {
     "end_time": "2021-04-15T12:21:07.790975Z",
     "start_time": "2021-04-15T12:21:07.718017Z"
    }
   },
   "outputs": [],
   "source": [
    "df['workclass'] = labelencoder.fit_transform(df['workclass'])\n",
    "df['marital-status'] = labelencoder.fit_transform(df['marital-status'])\n",
    "df['occupation'] = labelencoder.fit_transform(df['occupation'])\n",
    "df['relationship'] = labelencoder.fit_transform(df['relationship'])\n",
    "df['sex'] = labelencoder.fit_transform(df['sex'])\n",
    "df['native-country'] = labelencoder.fit_transform(df['native-country'])\n",
    "df['salary'] = labelencoder.fit_transform(df['salary'])\n",
    "df['race'] = labelencoder.fit_transform(df['race'])\n",
    "\n",
    "td['workclass'] = labelencoder.fit_transform(td['workclass'])\n",
    "td['marital-status'] = labelencoder.fit_transform(td['marital-status'])\n",
    "td['occupation'] = labelencoder.fit_transform(td['occupation'])\n",
    "td['relationship'] = labelencoder.fit_transform(td['relationship'])\n",
    "td['sex'] = labelencoder.fit_transform(td['sex'])\n",
    "td['native-country'] = labelencoder.fit_transform(td['native-country'])\n",
    "td['salary'] = labelencoder.fit_transform(td['salary'])\n",
    "td['race'] = labelencoder.fit_transform(td['race'])"
   ]
  },
  {
   "cell_type": "code",
   "execution_count": 8,
   "id": "e27e749b",
   "metadata": {
    "ExecuteTime": {
     "end_time": "2021-04-15T12:21:07.819974Z",
     "start_time": "2021-04-15T12:21:07.792974Z"
    }
   },
   "outputs": [],
   "source": [
    "scaler = MinMaxScaler()\n",
    "\n",
    "#訓練集\n",
    "train1 = scaler.fit_transform(df)\n",
    "df = pd.DataFrame(train1,columns=df.columns)\n",
    "\n",
    "#驗證集\n",
    "train1 = scaler.fit_transform(td)\n",
    "td = pd.DataFrame(train1,columns=td.columns)"
   ]
  },
  {
   "cell_type": "code",
   "execution_count": 9,
   "id": "8e2e5c63",
   "metadata": {
    "ExecuteTime": {
     "end_time": "2021-04-15T12:21:07.832951Z",
     "start_time": "2021-04-15T12:21:07.820958Z"
    }
   },
   "outputs": [],
   "source": [
    "x_train,x_test,y_train,y_test = train_test_split(df,df_y,test_size=0.2)"
   ]
  },
  {
   "cell_type": "code",
   "execution_count": 10,
   "id": "f378d44f",
   "metadata": {
    "ExecuteTime": {
     "end_time": "2021-04-15T12:21:07.853940Z",
     "start_time": "2021-04-15T12:21:07.833951Z"
    }
   },
   "outputs": [
    {
     "data": {
      "text/html": [
       "<div>\n",
       "<style scoped>\n",
       "    .dataframe tbody tr th:only-of-type {\n",
       "        vertical-align: middle;\n",
       "    }\n",
       "\n",
       "    .dataframe tbody tr th {\n",
       "        vertical-align: top;\n",
       "    }\n",
       "\n",
       "    .dataframe thead th {\n",
       "        text-align: right;\n",
       "    }\n",
       "</style>\n",
       "<table border=\"1\" class=\"dataframe\">\n",
       "  <thead>\n",
       "    <tr style=\"text-align: right;\">\n",
       "      <th></th>\n",
       "      <th>10th</th>\n",
       "      <th>11th</th>\n",
       "      <th>12th</th>\n",
       "      <th>1st-4th</th>\n",
       "      <th>5th-6th</th>\n",
       "      <th>7th-8th</th>\n",
       "      <th>9th</th>\n",
       "      <th>Assoc-acdm</th>\n",
       "      <th>Assoc-voc</th>\n",
       "      <th>Bachelors</th>\n",
       "      <th>Doctorate</th>\n",
       "      <th>HS-grad</th>\n",
       "      <th>Masters</th>\n",
       "      <th>Preschool</th>\n",
       "      <th>Prof-school</th>\n",
       "      <th>Some-college</th>\n",
       "    </tr>\n",
       "  </thead>\n",
       "  <tbody>\n",
       "    <tr>\n",
       "      <th>28229</th>\n",
       "      <td>0</td>\n",
       "      <td>0</td>\n",
       "      <td>0</td>\n",
       "      <td>0</td>\n",
       "      <td>0</td>\n",
       "      <td>0</td>\n",
       "      <td>0</td>\n",
       "      <td>1</td>\n",
       "      <td>0</td>\n",
       "      <td>0</td>\n",
       "      <td>0</td>\n",
       "      <td>0</td>\n",
       "      <td>0</td>\n",
       "      <td>0</td>\n",
       "      <td>0</td>\n",
       "      <td>0</td>\n",
       "    </tr>\n",
       "    <tr>\n",
       "      <th>19565</th>\n",
       "      <td>0</td>\n",
       "      <td>0</td>\n",
       "      <td>0</td>\n",
       "      <td>0</td>\n",
       "      <td>0</td>\n",
       "      <td>0</td>\n",
       "      <td>0</td>\n",
       "      <td>0</td>\n",
       "      <td>0</td>\n",
       "      <td>0</td>\n",
       "      <td>0</td>\n",
       "      <td>1</td>\n",
       "      <td>0</td>\n",
       "      <td>0</td>\n",
       "      <td>0</td>\n",
       "      <td>0</td>\n",
       "    </tr>\n",
       "    <tr>\n",
       "      <th>27048</th>\n",
       "      <td>0</td>\n",
       "      <td>0</td>\n",
       "      <td>0</td>\n",
       "      <td>0</td>\n",
       "      <td>0</td>\n",
       "      <td>0</td>\n",
       "      <td>0</td>\n",
       "      <td>0</td>\n",
       "      <td>0</td>\n",
       "      <td>0</td>\n",
       "      <td>0</td>\n",
       "      <td>1</td>\n",
       "      <td>0</td>\n",
       "      <td>0</td>\n",
       "      <td>0</td>\n",
       "      <td>0</td>\n",
       "    </tr>\n",
       "    <tr>\n",
       "      <th>17380</th>\n",
       "      <td>0</td>\n",
       "      <td>0</td>\n",
       "      <td>0</td>\n",
       "      <td>0</td>\n",
       "      <td>0</td>\n",
       "      <td>0</td>\n",
       "      <td>0</td>\n",
       "      <td>0</td>\n",
       "      <td>1</td>\n",
       "      <td>0</td>\n",
       "      <td>0</td>\n",
       "      <td>0</td>\n",
       "      <td>0</td>\n",
       "      <td>0</td>\n",
       "      <td>0</td>\n",
       "      <td>0</td>\n",
       "    </tr>\n",
       "    <tr>\n",
       "      <th>32269</th>\n",
       "      <td>0</td>\n",
       "      <td>0</td>\n",
       "      <td>0</td>\n",
       "      <td>0</td>\n",
       "      <td>0</td>\n",
       "      <td>0</td>\n",
       "      <td>0</td>\n",
       "      <td>0</td>\n",
       "      <td>1</td>\n",
       "      <td>0</td>\n",
       "      <td>0</td>\n",
       "      <td>0</td>\n",
       "      <td>0</td>\n",
       "      <td>0</td>\n",
       "      <td>0</td>\n",
       "      <td>0</td>\n",
       "    </tr>\n",
       "    <tr>\n",
       "      <th>...</th>\n",
       "      <td>...</td>\n",
       "      <td>...</td>\n",
       "      <td>...</td>\n",
       "      <td>...</td>\n",
       "      <td>...</td>\n",
       "      <td>...</td>\n",
       "      <td>...</td>\n",
       "      <td>...</td>\n",
       "      <td>...</td>\n",
       "      <td>...</td>\n",
       "      <td>...</td>\n",
       "      <td>...</td>\n",
       "      <td>...</td>\n",
       "      <td>...</td>\n",
       "      <td>...</td>\n",
       "      <td>...</td>\n",
       "    </tr>\n",
       "    <tr>\n",
       "      <th>17994</th>\n",
       "      <td>0</td>\n",
       "      <td>0</td>\n",
       "      <td>0</td>\n",
       "      <td>0</td>\n",
       "      <td>0</td>\n",
       "      <td>0</td>\n",
       "      <td>0</td>\n",
       "      <td>0</td>\n",
       "      <td>0</td>\n",
       "      <td>0</td>\n",
       "      <td>0</td>\n",
       "      <td>1</td>\n",
       "      <td>0</td>\n",
       "      <td>0</td>\n",
       "      <td>0</td>\n",
       "      <td>0</td>\n",
       "    </tr>\n",
       "    <tr>\n",
       "      <th>19077</th>\n",
       "      <td>0</td>\n",
       "      <td>0</td>\n",
       "      <td>0</td>\n",
       "      <td>0</td>\n",
       "      <td>0</td>\n",
       "      <td>0</td>\n",
       "      <td>0</td>\n",
       "      <td>0</td>\n",
       "      <td>0</td>\n",
       "      <td>0</td>\n",
       "      <td>0</td>\n",
       "      <td>1</td>\n",
       "      <td>0</td>\n",
       "      <td>0</td>\n",
       "      <td>0</td>\n",
       "      <td>0</td>\n",
       "    </tr>\n",
       "    <tr>\n",
       "      <th>23765</th>\n",
       "      <td>0</td>\n",
       "      <td>0</td>\n",
       "      <td>0</td>\n",
       "      <td>0</td>\n",
       "      <td>0</td>\n",
       "      <td>0</td>\n",
       "      <td>0</td>\n",
       "      <td>0</td>\n",
       "      <td>0</td>\n",
       "      <td>1</td>\n",
       "      <td>0</td>\n",
       "      <td>0</td>\n",
       "      <td>0</td>\n",
       "      <td>0</td>\n",
       "      <td>0</td>\n",
       "      <td>0</td>\n",
       "    </tr>\n",
       "    <tr>\n",
       "      <th>28753</th>\n",
       "      <td>0</td>\n",
       "      <td>1</td>\n",
       "      <td>0</td>\n",
       "      <td>0</td>\n",
       "      <td>0</td>\n",
       "      <td>0</td>\n",
       "      <td>0</td>\n",
       "      <td>0</td>\n",
       "      <td>0</td>\n",
       "      <td>0</td>\n",
       "      <td>0</td>\n",
       "      <td>0</td>\n",
       "      <td>0</td>\n",
       "      <td>0</td>\n",
       "      <td>0</td>\n",
       "      <td>0</td>\n",
       "    </tr>\n",
       "    <tr>\n",
       "      <th>30119</th>\n",
       "      <td>0</td>\n",
       "      <td>1</td>\n",
       "      <td>0</td>\n",
       "      <td>0</td>\n",
       "      <td>0</td>\n",
       "      <td>0</td>\n",
       "      <td>0</td>\n",
       "      <td>0</td>\n",
       "      <td>0</td>\n",
       "      <td>0</td>\n",
       "      <td>0</td>\n",
       "      <td>0</td>\n",
       "      <td>0</td>\n",
       "      <td>0</td>\n",
       "      <td>0</td>\n",
       "      <td>0</td>\n",
       "    </tr>\n",
       "  </tbody>\n",
       "</table>\n",
       "<p>24129 rows × 16 columns</p>\n",
       "</div>"
      ],
      "text/plain": [
       "        10th   11th   12th   1st-4th   5th-6th   7th-8th   9th   Assoc-acdm  \\\n",
       "28229      0      0      0         0         0         0     0            1   \n",
       "19565      0      0      0         0         0         0     0            0   \n",
       "27048      0      0      0         0         0         0     0            0   \n",
       "17380      0      0      0         0         0         0     0            0   \n",
       "32269      0      0      0         0         0         0     0            0   \n",
       "...      ...    ...    ...       ...       ...       ...   ...          ...   \n",
       "17994      0      0      0         0         0         0     0            0   \n",
       "19077      0      0      0         0         0         0     0            0   \n",
       "23765      0      0      0         0         0         0     0            0   \n",
       "28753      0      1      0         0         0         0     0            0   \n",
       "30119      0      1      0         0         0         0     0            0   \n",
       "\n",
       "        Assoc-voc   Bachelors   Doctorate   HS-grad   Masters   Preschool  \\\n",
       "28229           0           0           0         0         0           0   \n",
       "19565           0           0           0         1         0           0   \n",
       "27048           0           0           0         1         0           0   \n",
       "17380           1           0           0         0         0           0   \n",
       "32269           1           0           0         0         0           0   \n",
       "...           ...         ...         ...       ...       ...         ...   \n",
       "17994           0           0           0         1         0           0   \n",
       "19077           0           0           0         1         0           0   \n",
       "23765           0           1           0         0         0           0   \n",
       "28753           0           0           0         0         0           0   \n",
       "30119           0           0           0         0         0           0   \n",
       "\n",
       "        Prof-school   Some-college  \n",
       "28229             0              0  \n",
       "19565             0              0  \n",
       "27048             0              0  \n",
       "17380             0              0  \n",
       "32269             0              0  \n",
       "...             ...            ...  \n",
       "17994             0              0  \n",
       "19077             0              0  \n",
       "23765             0              0  \n",
       "28753             0              0  \n",
       "30119             0              0  \n",
       "\n",
       "[24129 rows x 16 columns]"
      ]
     },
     "execution_count": 10,
     "metadata": {},
     "output_type": "execute_result"
    }
   ],
   "source": [
    "y_train"
   ]
  },
  {
   "cell_type": "code",
   "execution_count": 11,
   "id": "f25ae924",
   "metadata": {
    "ExecuteTime": {
     "end_time": "2021-04-15T12:21:08.058827Z",
     "start_time": "2021-04-15T12:21:07.854939Z"
    }
   },
   "outputs": [
    {
     "name": "stdout",
     "output_type": "stream",
     "text": [
      "Model: \"sequential\"\n",
      "_________________________________________________________________\n",
      "Layer (type)                 Output Shape              Param #   \n",
      "=================================================================\n",
      "dense (Dense)                (None, 16)                224       \n",
      "_________________________________________________________________\n",
      "dense_1 (Dense)              (None, 32)                544       \n",
      "_________________________________________________________________\n",
      "dense_2 (Dense)              (None, 64)                2112      \n",
      "_________________________________________________________________\n",
      "dense_3 (Dense)              (None, 64)                4160      \n",
      "_________________________________________________________________\n",
      "batch_normalization (BatchNo (None, 64)                256       \n",
      "_________________________________________________________________\n",
      "dense_4 (Dense)              (None, 32)                2080      \n",
      "_________________________________________________________________\n",
      "batch_normalization_1 (Batch (None, 32)                128       \n",
      "_________________________________________________________________\n",
      "dense_5 (Dense)              (None, 16)                528       \n",
      "_________________________________________________________________\n",
      "dense_6 (Dense)              (None, 16)                272       \n",
      "=================================================================\n",
      "Total params: 10,304\n",
      "Trainable params: 10,112\n",
      "Non-trainable params: 192\n",
      "_________________________________________________________________\n"
     ]
    }
   ],
   "source": [
    "model = Sequential()\n",
    "\n",
    "model.add(Input(shape=(x_train.shape[1],)))\n",
    "model.add(Dense(units=16, kernel_initializer='he_uniform', activation='elu'))\n",
    "# model.add(BatchNormalization())\n",
    "model.add(Dense(units=32, kernel_initializer='he_uniform', activation='elu')) \n",
    "# model.add(BatchNormalization())\n",
    "model.add(Dense(units=64, kernel_initializer='he_uniform', activation='elu'))\n",
    "# model.add(BatchNormalization())\n",
    "# model.add(Dense(units=128, kernel_initializer='he_uniform', activation='elu'))\n",
    "# model.add(BatchNormalization())\n",
    "model.add(Dense(units=64, kernel_initializer='he_uniform', activation='elu'))\n",
    "model.add(BatchNormalization())\n",
    "model.add(Dense(units=32, kernel_initializer='he_uniform', activation='elu'))\n",
    "model.add(BatchNormalization())\n",
    "model.add(Dense(units=16, kernel_initializer='he_uniform', activation='elu'))\n",
    "# model.add(Dropout(0.1))\n",
    "model.add(Dense(y_train.shape[1],activation='softmax'))\n",
    "\n",
    "model.summary()\n"
   ]
  },
  {
   "cell_type": "code",
   "execution_count": 12,
   "id": "59bab786",
   "metadata": {
    "ExecuteTime": {
     "end_time": "2021-04-15T12:21:08.076812Z",
     "start_time": "2021-04-15T12:21:08.059822Z"
    }
   },
   "outputs": [],
   "source": [
    "precision=tf.keras.metrics.Precision(name='precision')\n",
    "recall=tf.keras.metrics.Recall(name='recall')\n",
    "accuracy=tf.keras.metrics.Accuracy(name='accuracy')\n",
    "callback = tf.keras.callbacks.EarlyStopping(monitor='recall',mode='max', patience=15 ,restore_best_weights=True)"
   ]
  },
  {
   "cell_type": "code",
   "execution_count": 13,
   "id": "62ddb134",
   "metadata": {
    "ExecuteTime": {
     "end_time": "2021-04-15T12:21:08.089818Z",
     "start_time": "2021-04-15T12:21:08.077812Z"
    }
   },
   "outputs": [],
   "source": [
    "Adam = tf.optimizers.Adam(lr=0.003, beta_1=0.9, beta_2=0.997, epsilon=1e-08, decay=0.0)"
   ]
  },
  {
   "cell_type": "code",
   "execution_count": 14,
   "id": "335713e1",
   "metadata": {
    "ExecuteTime": {
     "end_time": "2021-04-15T12:21:08.106815Z",
     "start_time": "2021-04-15T12:21:08.090804Z"
    }
   },
   "outputs": [],
   "source": [
    "model.compile(optimizer=Adam, \n",
    "              loss=tf.keras.losses.CategoricalCrossentropy(from_logits=True),\n",
    "              metrics = [precision,recall,accuracy]\n",
    "              )"
   ]
  },
  {
   "cell_type": "code",
   "execution_count": 15,
   "id": "b7b3e658",
   "metadata": {
    "ExecuteTime": {
     "end_time": "2021-04-15T12:23:06.732293Z",
     "start_time": "2021-04-15T12:21:08.107795Z"
    }
   },
   "outputs": [
    {
     "name": "stdout",
     "output_type": "stream",
     "text": [
      "Epoch 1/100\n",
      "1207/1207 [==============================] - 2s 989us/step - loss: 2.0444 - precision: 0.3968 - recall: 0.0167 - accuracy: 0.0000e+00\n",
      "Epoch 2/100\n",
      "1207/1207 [==============================] - 1s 972us/step - loss: 1.8760 - precision: 0.4261 - recall: 0.0133 - accuracy: 0.0000e+00\n",
      "Epoch 3/100\n",
      "1207/1207 [==============================] - 1s 986us/step - loss: 1.8273 - precision: 0.4666 - recall: 0.0242 - accuracy: 0.0000e+00\n",
      "Epoch 4/100\n",
      "1207/1207 [==============================] - 1s 977us/step - loss: 1.7908 - precision: 0.4933 - recall: 0.0405 - accuracy: 0.0000e+00\n",
      "Epoch 5/100\n",
      "1207/1207 [==============================] - 1s 959us/step - loss: 1.7840 - precision: 0.4634 - recall: 0.0345 - accuracy: 0.0000e+00\n",
      "Epoch 6/100\n",
      "1207/1207 [==============================] - 1s 957us/step - loss: 1.7712 - precision: 0.5082 - recall: 0.0423 - accuracy: 0.0000e+00\n",
      "Epoch 7/100\n",
      "1207/1207 [==============================] - 1s 989us/step - loss: 1.7641 - precision: 0.4936 - recall: 0.0655 - accuracy: 0.0000e+00\n",
      "Epoch 8/100\n",
      "1207/1207 [==============================] - 1s 969us/step - loss: 1.7354 - precision: 0.5281 - recall: 0.0589 - accuracy: 0.0000e+00\n",
      "Epoch 9/100\n",
      "1207/1207 [==============================] - 1s 974us/step - loss: 1.7397 - precision: 0.5126 - recall: 0.0625 - accuracy: 0.0000e+00\n",
      "Epoch 10/100\n",
      "1207/1207 [==============================] - 1s 979us/step - loss: 1.7261 - precision: 0.5215 - recall: 0.0696 - accuracy: 0.0000e+00\n",
      "Epoch 11/100\n",
      "1207/1207 [==============================] - 1s 1ms/step - loss: 1.7219 - precision: 0.5363 - recall: 0.0745 - accuracy: 0.0000e+00\n",
      "Epoch 12/100\n",
      "1207/1207 [==============================] - 1s 998us/step - loss: 1.7140 - precision: 0.5338 - recall: 0.0797 - accuracy: 0.0000e+00\n",
      "Epoch 13/100\n",
      "1207/1207 [==============================] - 1s 1ms/step - loss: 1.7161 - precision: 0.5332 - recall: 0.0803 - accuracy: 0.0000e+00A: 0s - loss: 1.7276 - precision: 0.5477 - recall: 0.0880 - \n",
      "Epoch 14/100\n",
      "1207/1207 [==============================] - 1s 1ms/step - loss: 1.7026 - precision: 0.5126 - recall: 0.1032 - accuracy: 0.0000e+00\n",
      "Epoch 15/100\n",
      "1207/1207 [==============================] - 1s 980us/step - loss: 1.6896 - precision: 0.5385 - recall: 0.1030 - accuracy: 0.0000e+00\n",
      "Epoch 16/100\n",
      "1207/1207 [==============================] - 1s 962us/step - loss: 1.7084 - precision: 0.5258 - recall: 0.0890 - accuracy: 0.0000e+00\n",
      "Epoch 17/100\n",
      "1207/1207 [==============================] - 1s 975us/step - loss: 1.6834 - precision: 0.5165 - recall: 0.1048 - accuracy: 0.0000e+00\n",
      "Epoch 18/100\n",
      "1207/1207 [==============================] - 1s 968us/step - loss: 1.6966 - precision: 0.5202 - recall: 0.0881 - accuracy: 0.0000e+00\n",
      "Epoch 19/100\n",
      "1207/1207 [==============================] - 1s 969us/step - loss: 1.6890 - precision: 0.5193 - recall: 0.1062 - accuracy: 0.0000e+00\n",
      "Epoch 20/100\n",
      "1207/1207 [==============================] - 1s 970us/step - loss: 1.6781 - precision: 0.5297 - recall: 0.1140 - accuracy: 0.0000e+00\n",
      "Epoch 21/100\n",
      "1207/1207 [==============================] - 1s 961us/step - loss: 1.6734 - precision: 0.5382 - recall: 0.1127 - accuracy: 0.0000e+00\n",
      "Epoch 22/100\n",
      "1207/1207 [==============================] - 1s 955us/step - loss: 1.6731 - precision: 0.5355 - recall: 0.1130 - accuracy: 0.0000e+00\n",
      "Epoch 23/100\n",
      "1207/1207 [==============================] - 1s 960us/step - loss: 1.6706 - precision: 0.5359 - recall: 0.1202 - accuracy: 0.0000e+00\n",
      "Epoch 24/100\n",
      "1207/1207 [==============================] - 1s 958us/step - loss: 1.6711 - precision: 0.5333 - recall: 0.1166 - accuracy: 0.0000e+00\n",
      "Epoch 25/100\n",
      "1207/1207 [==============================] - 1s 960us/step - loss: 1.6609 - precision: 0.5262 - recall: 0.1211 - accuracy: 0.0000e+00\n",
      "Epoch 26/100\n",
      "1207/1207 [==============================] - 1s 959us/step - loss: 1.6598 - precision: 0.5392 - recall: 0.1282 - accuracy: 0.0000e+00\n",
      "Epoch 27/100\n",
      "1207/1207 [==============================] - 1s 965us/step - loss: 1.6541 - precision: 0.5438 - recall: 0.1344 - accuracy: 0.0000e+00\n",
      "Epoch 28/100\n",
      "1207/1207 [==============================] - 1s 991us/step - loss: 1.6570 - precision: 0.5356 - recall: 0.1375 - accuracy: 0.0000e+00\n",
      "Epoch 29/100\n",
      "1207/1207 [==============================] - 1s 970us/step - loss: 1.6613 - precision: 0.5353 - recall: 0.1351 - accuracy: 0.0000e+00\n",
      "Epoch 30/100\n",
      "1207/1207 [==============================] - 1s 989us/step - loss: 1.6597 - precision: 0.5327 - recall: 0.1325 - accuracy: 0.0000e+00\n",
      "Epoch 31/100\n",
      "1207/1207 [==============================] - 1s 996us/step - loss: 1.6602 - precision: 0.5431 - recall: 0.1286 - accuracy: 0.0000e+00\n",
      "Epoch 32/100\n",
      "1207/1207 [==============================] - 1s 967us/step - loss: 1.6567 - precision: 0.5462 - recall: 0.1440 - accuracy: 0.0000e+00\n",
      "Epoch 33/100\n",
      "1207/1207 [==============================] - 1s 956us/step - loss: 1.6498 - precision: 0.5437 - recall: 0.1445 - accuracy: 0.0000e+00\n",
      "Epoch 34/100\n",
      "1207/1207 [==============================] - 1s 959us/step - loss: 1.6475 - precision: 0.5486 - recall: 0.1360 - accuracy: 0.0000e+00\n",
      "Epoch 35/100\n",
      "1207/1207 [==============================] - 1s 976us/step - loss: 1.6471 - precision: 0.5329 - recall: 0.1415 - accuracy: 0.0000e+00\n",
      "Epoch 36/100\n",
      "1207/1207 [==============================] - 1s 960us/step - loss: 1.6458 - precision: 0.5487 - recall: 0.1479 - accuracy: 0.0000e+00\n",
      "Epoch 37/100\n",
      "1207/1207 [==============================] - 1s 965us/step - loss: 1.6457 - precision: 0.5534 - recall: 0.1323 - accuracy: 0.0000e+00\n",
      "Epoch 38/100\n",
      "1207/1207 [==============================] - 1s 963us/step - loss: 1.6471 - precision: 0.5277 - recall: 0.1301 - accuracy: 0.0000e+00\n",
      "Epoch 39/100\n",
      "1207/1207 [==============================] - 1s 957us/step - loss: 1.6498 - precision: 0.5591 - recall: 0.1438 - accuracy: 0.0000e+00\n",
      "Epoch 40/100\n",
      "1207/1207 [==============================] - 1s 958us/step - loss: 1.6395 - precision: 0.5437 - recall: 0.1306 - accuracy: 0.0000e+00\n",
      "Epoch 41/100\n",
      "1207/1207 [==============================] - 1s 969us/step - loss: 1.6590 - precision: 0.5530 - recall: 0.1337 - accuracy: 0.0000e+00\n",
      "Epoch 42/100\n",
      "1207/1207 [==============================] - 1s 954us/step - loss: 1.6497 - precision: 0.5428 - recall: 0.1530 - accuracy: 0.0000e+00\n",
      "Epoch 43/100\n",
      "1207/1207 [==============================] - 1s 955us/step - loss: 1.6429 - precision: 0.5456 - recall: 0.1507 - accuracy: 0.0000e+00\n",
      "Epoch 44/100\n",
      "1207/1207 [==============================] - 1s 952us/step - loss: 1.6363 - precision: 0.5487 - recall: 0.1509 - accuracy: 0.0000e+00\n",
      "Epoch 45/100\n",
      "1207/1207 [==============================] - 1s 950us/step - loss: 1.6461 - precision: 0.5441 - recall: 0.1357 - accuracy: 0.0000e+00\n",
      "Epoch 46/100\n",
      "1207/1207 [==============================] - 1s 952us/step - loss: 1.6349 - precision: 0.5549 - recall: 0.1465 - accuracy: 0.0000e+00\n",
      "Epoch 47/100\n",
      "1207/1207 [==============================] - 1s 950us/step - loss: 1.6419 - precision: 0.5404 - recall: 0.1493 - accuracy: 0.0000e+00\n",
      "Epoch 48/100\n",
      "1207/1207 [==============================] - 1s 949us/step - loss: 1.6394 - precision: 0.5376 - recall: 0.1339 - accuracy: 0.0000e+00\n",
      "Epoch 49/100\n",
      "1207/1207 [==============================] - 1s 948us/step - loss: 1.6318 - precision: 0.5506 - recall: 0.1417 - accuracy: 0.0000e+00\n",
      "Epoch 50/100\n",
      "1207/1207 [==============================] - 1s 953us/step - loss: 1.6167 - precision: 0.5384 - recall: 0.1649 - accuracy: 0.0000e+00\n",
      "Epoch 51/100\n",
      "1207/1207 [==============================] - 1s 958us/step - loss: 1.6297 - precision: 0.5516 - recall: 0.1469 - accuracy: 0.0000e+00\n",
      "Epoch 52/100\n",
      "1207/1207 [==============================] - 1s 957us/step - loss: 1.6230 - precision: 0.5429 - recall: 0.1552 - accuracy: 0.0000e+00\n",
      "Epoch 53/100\n",
      "1207/1207 [==============================] - 1s 961us/step - loss: 1.6254 - precision: 0.5403 - recall: 0.1377 - accuracy: 0.0000e+00\n",
      "Epoch 54/100\n",
      "1207/1207 [==============================] - 1s 956us/step - loss: 1.6337 - precision: 0.5557 - recall: 0.1565 - accuracy: 0.0000e+00\n",
      "Epoch 55/100\n",
      "1207/1207 [==============================] - 1s 958us/step - loss: 1.6351 - precision: 0.5561 - recall: 0.1505 - accuracy: 0.0000e+00\n",
      "Epoch 56/100\n"
     ]
    },
    {
     "name": "stdout",
     "output_type": "stream",
     "text": [
      "1207/1207 [==============================] - 1s 954us/step - loss: 1.6272 - precision: 0.5529 - recall: 0.1598 - accuracy: 0.0000e+00\n",
      "Epoch 57/100\n",
      "1207/1207 [==============================] - 1s 950us/step - loss: 1.6319 - precision: 0.5365 - recall: 0.1338 - accuracy: 0.0000e+00\n",
      "Epoch 58/100\n",
      "1207/1207 [==============================] - 1s 961us/step - loss: 1.6304 - precision: 0.5410 - recall: 0.1446 - accuracy: 0.0000e+00\n",
      "Epoch 59/100\n",
      "1207/1207 [==============================] - 1s 955us/step - loss: 1.6164 - precision: 0.5585 - recall: 0.1597 - accuracy: 0.0000e+00\n",
      "Epoch 60/100\n",
      "1207/1207 [==============================] - 1s 959us/step - loss: 1.6161 - precision: 0.5583 - recall: 0.1563 - accuracy: 0.0000e+00\n",
      "Epoch 61/100\n",
      "1207/1207 [==============================] - 1s 963us/step - loss: 1.6218 - precision: 0.5599 - recall: 0.1757 - accuracy: 0.0000e+00\n",
      "Epoch 62/100\n",
      "1207/1207 [==============================] - 1s 952us/step - loss: 1.6123 - precision: 0.5497 - recall: 0.1554 - accuracy: 0.0000e+00\n",
      "Epoch 63/100\n",
      "1207/1207 [==============================] - 1s 954us/step - loss: 1.6132 - precision: 0.5526 - recall: 0.1621 - accuracy: 0.0000e+00\n",
      "Epoch 64/100\n",
      "1207/1207 [==============================] - 1s 951us/step - loss: 1.6117 - precision: 0.5618 - recall: 0.1550 - accuracy: 0.0000e+00\n",
      "Epoch 65/100\n",
      "1207/1207 [==============================] - 1s 954us/step - loss: 1.6212 - precision: 0.5523 - recall: 0.1533 - accuracy: 0.0000e+00\n",
      "Epoch 66/100\n",
      "1207/1207 [==============================] - 1s 955us/step - loss: 1.6112 - precision: 0.5570 - recall: 0.1666 - accuracy: 0.0000e+00\n",
      "Epoch 67/100\n",
      "1207/1207 [==============================] - 1s 963us/step - loss: 1.6152 - precision: 0.5639 - recall: 0.1558 - accuracy: 0.0000e+00\n",
      "Epoch 68/100\n",
      "1207/1207 [==============================] - 1s 968us/step - loss: 1.6177 - precision: 0.5644 - recall: 0.1673 - accuracy: 0.0000e+00\n",
      "Epoch 69/100\n",
      "1207/1207 [==============================] - 1s 983us/step - loss: 1.6169 - precision: 0.5566 - recall: 0.1472 - accuracy: 0.0000e+00\n",
      "Epoch 70/100\n",
      "1207/1207 [==============================] - 1s 989us/step - loss: 1.6063 - precision: 0.5604 - recall: 0.1643 - accuracy: 0.0000e+00\n",
      "Epoch 71/100\n",
      "1207/1207 [==============================] - 1s 975us/step - loss: 1.6207 - precision: 0.5583 - recall: 0.1595 - accuracy: 0.0000e+00\n",
      "Epoch 72/100\n",
      "1207/1207 [==============================] - 1s 976us/step - loss: 1.6087 - precision: 0.5593 - recall: 0.1715 - accuracy: 0.0000e+00\n",
      "Epoch 73/100\n",
      "1207/1207 [==============================] - 1s 954us/step - loss: 1.6063 - precision: 0.5590 - recall: 0.1527 - accuracy: 0.0000e+00\n",
      "Epoch 74/100\n",
      "1207/1207 [==============================] - 1s 963us/step - loss: 1.6061 - precision: 0.5567 - recall: 0.1731 - accuracy: 0.0000e+00\n",
      "Epoch 75/100\n",
      "1207/1207 [==============================] - 1s 998us/step - loss: 1.6118 - precision: 0.5462 - recall: 0.1609 - accuracy: 0.0000e+00\n",
      "Epoch 76/100\n",
      "1207/1207 [==============================] - 1s 991us/step - loss: 1.6040 - precision: 0.5523 - recall: 0.1647 - accuracy: 0.0000e+00\n",
      "Epoch 77/100\n",
      "1207/1207 [==============================] - 1s 992us/step - loss: 1.6133 - precision: 0.5601 - recall: 0.1569 - accuracy: 0.0000e+00\n",
      "Epoch 78/100\n",
      "1207/1207 [==============================] - 1s 982us/step - loss: 1.6149 - precision: 0.5643 - recall: 0.1732 - accuracy: 0.0000e+00\n",
      "Epoch 79/100\n",
      "1207/1207 [==============================] - 1s 975us/step - loss: 1.6047 - precision: 0.5598 - recall: 0.1735 - accuracy: 0.0000e+00\n",
      "Epoch 80/100\n",
      "1207/1207 [==============================] - 1s 973us/step - loss: 1.5867 - precision: 0.5667 - recall: 0.1746 - accuracy: 0.0000e+00\n",
      "Epoch 81/100\n",
      "1207/1207 [==============================] - 1s 963us/step - loss: 1.5932 - precision: 0.5721 - recall: 0.1796 - accuracy: 0.0000e+00\n",
      "Epoch 82/100\n",
      "1207/1207 [==============================] - 1s 967us/step - loss: 1.5918 - precision: 0.5611 - recall: 0.1800 - accuracy: 0.0000e+00\n",
      "Epoch 83/100\n",
      "1207/1207 [==============================] - 1s 965us/step - loss: 1.6112 - precision: 0.5578 - recall: 0.1598 - accuracy: 0.0000e+00\n",
      "Epoch 84/100\n",
      "1207/1207 [==============================] - 1s 986us/step - loss: 1.6049 - precision: 0.5528 - recall: 0.1720 - accuracy: 0.0000e+00\n",
      "Epoch 85/100\n",
      "1207/1207 [==============================] - 1s 999us/step - loss: 1.5970 - precision: 0.5530 - recall: 0.1643 - accuracy: 0.0000e+00\n",
      "Epoch 86/100\n",
      "1207/1207 [==============================] - 1s 1ms/step - loss: 1.5918 - precision: 0.5615 - recall: 0.1686 - accuracy: 0.0000e+00\n",
      "Epoch 87/100\n",
      "1207/1207 [==============================] - 1s 977us/step - loss: 1.5952 - precision: 0.5597 - recall: 0.1727 - accuracy: 0.0000e+00\n",
      "Epoch 88/100\n",
      "1207/1207 [==============================] - 1s 978us/step - loss: 1.5947 - precision: 0.5505 - recall: 0.1714 - accuracy: 0.0000e+00\n",
      "Epoch 89/100\n",
      "1207/1207 [==============================] - 1s 964us/step - loss: 1.5897 - precision: 0.5554 - recall: 0.1570 - accuracy: 0.0000e+00\n",
      "Epoch 90/100\n",
      "1207/1207 [==============================] - 1s 971us/step - loss: 1.5927 - precision: 0.5569 - recall: 0.1793 - accuracy: 0.0000e+00\n",
      "Epoch 91/100\n",
      "1207/1207 [==============================] - 1s 961us/step - loss: 1.6018 - precision: 0.5562 - recall: 0.1548 - accuracy: 0.0000e+00\n",
      "Epoch 92/100\n",
      "1207/1207 [==============================] - 1s 966us/step - loss: 1.5963 - precision: 0.5643 - recall: 0.1849 - accuracy: 0.0000e+00\n",
      "Epoch 93/100\n",
      "1207/1207 [==============================] - 1s 970us/step - loss: 1.5751 - precision: 0.5745 - recall: 0.1827 - accuracy: 0.0000e+00\n",
      "Epoch 94/100\n",
      "1207/1207 [==============================] - 1s 968us/step - loss: 1.5956 - precision: 0.5563 - recall: 0.1686 - accuracy: 0.0000e+00\n",
      "Epoch 95/100\n",
      "1207/1207 [==============================] - 1s 968us/step - loss: 1.5976 - precision: 0.5621 - recall: 0.1641 - accuracy: 0.0000e+00\n",
      "Epoch 96/100\n",
      "1207/1207 [==============================] - 1s 973us/step - loss: 1.5912 - precision: 0.5585 - recall: 0.1773 - accuracy: 0.0000e+00\n",
      "Epoch 97/100\n",
      "1207/1207 [==============================] - 1s 961us/step - loss: 1.5870 - precision: 0.5694 - recall: 0.1759 - accuracy: 0.0000e+00\n",
      "Epoch 98/100\n",
      "1207/1207 [==============================] - 1s 967us/step - loss: 1.5932 - precision: 0.5589 - recall: 0.1773 - accuracy: 0.0000e+00\n",
      "Epoch 99/100\n",
      "1207/1207 [==============================] - 1s 957us/step - loss: 1.5921 - precision: 0.5659 - recall: 0.1730 - accuracy: 0.0000e+00\n",
      "Epoch 100/100\n",
      "1207/1207 [==============================] - 1s 953us/step - loss: 1.5974 - precision: 0.5620 - recall: 0.1633 - accuracy: 0.0000e+00\n"
     ]
    }
   ],
   "source": [
    "history = model.fit(x=x_train, y=y_train,epochs=100,batch_size =20, callbacks=[callback])"
   ]
  },
  {
   "cell_type": "code",
   "execution_count": 16,
   "id": "d34c11c4",
   "metadata": {
    "ExecuteTime": {
     "end_time": "2021-04-15T12:23:07.401982Z",
     "start_time": "2021-04-15T12:23:06.733294Z"
    },
    "scrolled": true
   },
   "outputs": [
    {
     "name": "stdout",
     "output_type": "stream",
     "text": [
      "189/189 [==============================] - 1s 670us/step - loss: 1.6797 - precision: 0.5410 - recall: 0.1850 - accuracy: 0.0000e+00\n",
      "Precision 0.5409597754478455\n",
      "Recall 0.18498259782791138\n",
      "F1 0.2756917029961939\n"
     ]
    },
    {
     "data": {
      "image/png": "[encoded data removed]",
      "text/plain": [
       "<Figure size 432x288 with 1 Axes>"
      ]
     },
     "metadata": {
      "needs_background": "light"
     },
     "output_type": "display_data"
    }
   ],
   "source": [
    "preds = model.evaluate(x = x_test, y = y_test)\n",
    "\n",
    "F1 = 2 * (preds[1] * preds[2]) / (preds[1] + preds[2])\n",
    "print('Precision', preds[1])\n",
    "print('Recall', preds[2])\n",
    "print('F1',F1)\n",
    "\n",
    "plt.plot(history.history['precision'])\n",
    "plt.plot(history.history['recall'])\n",
    "plt.title('model accuracy')\n",
    "plt.ylabel('%')\n",
    "plt.xlabel('epoch')\n",
    "plt.legend(['precision', 'recall'], loc='upper left')\n",
    "plt.show()"
   ]
  },
  {
   "cell_type": "code",
   "execution_count": 17,
   "id": "93cb8151",
   "metadata": {
    "ExecuteTime": {
     "end_time": "2021-04-15T12:23:07.925283Z",
     "start_time": "2021-04-15T12:23:07.402990Z"
    }
   },
   "outputs": [
    {
     "name": "stdout",
     "output_type": "stream",
     "text": [
      "509/509 [==============================] - 0s 694us/step - loss: 1.8517 - precision: 0.4934 - recall: 0.1403 - accuracy: 0.0000e+00\n",
      "Precision 0.4934110939502716\n",
      "Recall 0.14028622210025787\n",
      "F1 0.2184600646379246\n"
     ]
    },
    {
     "data": {
      "image/png": "[encoded data removed]",
      "text/plain": [
       "<Figure size 432x288 with 1 Axes>"
      ]
     },
     "metadata": {
      "needs_background": "light"
     },
     "output_type": "display_data"
    }
   ],
   "source": [
    "td_predicted = model.evaluate(td,td_y)\n",
    "\n",
    "F1 = 2 * (td_predicted[1] * td_predicted[2]) / (td_predicted[1] + td_predicted[2])\n",
    "print('Precision', td_predicted[1])\n",
    "print('Recall', td_predicted[2])\n",
    "print('F1',F1)\n",
    "\n",
    "plt.plot(history.history['precision'])\n",
    "plt.plot(history.history['recall'])\n",
    "plt.title('model accuracy')\n",
    "plt.ylabel('%')\n",
    "plt.xlabel('epoch')\n",
    "plt.legend(['precision', 'recall'], loc='upper left')\n",
    "plt.show()"
   ]
  },
  {
   "cell_type": "code",
   "execution_count": null,
   "id": "102aa883",
   "metadata": {},
   "outputs": [],
   "source": []
  }
 ],
 "metadata": {
  "kernelspec": {
   "display_name": "Python 3",
   "language": "python",
   "name": "python3"
  },
  "language_info": {
   "codemirror_mode": {
    "name": "ipython",
    "version": 3
   },
   "file_extension": ".py",
   "mimetype": "text/x-python",
   "name": "python",
   "nbconvert_exporter": "python",
   "pygments_lexer": "ipython3",
   "version": "3.8.8"
  },
  "toc": {
   "base_numbering": 1,
   "nav_menu": {},
   "number_sections": true,
   "sideBar": true,
   "skip_h1_title": false,
   "title_cell": "Table of Contents",
   "title_sidebar": "Contents",
   "toc_cell": false,
   "toc_position": {
    "height": "calc(100% - 180px)",
    "left": "10px",
    "top": "150px",
    "width": "320px"
   },
   "toc_section_display": true,
   "toc_window_display": false
  }
 },
 "nbformat": 4,
 "nbformat_minor": 5
}
