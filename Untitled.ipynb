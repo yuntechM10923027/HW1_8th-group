{
 "cells": [
  {
   "cell_type": "markdown",
   "id": "cbf28804",
   "metadata": {},
   "source": [
    "# 載入函式庫"
   ]
  },
  {
   "cell_type": "code",
   "execution_count": 1,
   "id": "135c0e90",
   "metadata": {
    "ExecuteTime": {
     "end_time": "2021-04-14T12:03:08.548710Z",
     "start_time": "2021-04-14T12:03:05.853918Z"
    }
   },
   "outputs": [],
   "source": [
    "import numpy as np\n",
    "import pandas as pd\n",
    "import matplotlib.pyplot as plt\n",
    "\n",
    "import tensorflow as tf\n",
    "from tensorflow.keras.models import Model,Sequential\n",
    "from tensorflow.keras.layers import Input, Dense, Activation,Dropout,BatchNormalization\n",
    "\n",
    "from keras import metrics,layers\n",
    "from keras.optimizers import Adam\n",
    "\n",
    "from sklearn.model_selection import train_test_split\n",
    "from sklearn.preprocessing import LabelEncoder,MinMaxScaler\n",
    "from sklearn.metrics import mean_squared_error\n",
    "\n",
    "labelencoder = LabelEncoder()\n",
    "scaler = MinMaxScaler()"
   ]
  },
  {
   "cell_type": "markdown",
   "id": "6da8c3da",
   "metadata": {},
   "source": [
    "# 載入數據"
   ]
  },
  {
   "cell_type": "code",
   "execution_count": 2,
   "id": "b0534781",
   "metadata": {
    "ExecuteTime": {
     "end_time": "2021-04-14T12:03:08.560719Z",
     "start_time": "2021-04-14T12:03:08.550709Z"
    },
    "scrolled": true
   },
   "outputs": [],
   "source": [
    "df = pd.read_csv('abalone.data',header=None,encoding='utf-8')"
   ]
  },
  {
   "cell_type": "code",
   "execution_count": 3,
   "id": "044784af",
   "metadata": {
    "ExecuteTime": {
     "end_time": "2021-04-14T12:03:08.567702Z",
     "start_time": "2021-04-14T12:03:08.561702Z"
    }
   },
   "outputs": [],
   "source": [
    "df.columns=['Sex', 'Length', 'Diameter', 'Height', 'Whole-weight','Shucked-weight','Viscera-weight','Shell-weight','Rings']"
   ]
  },
  {
   "cell_type": "code",
   "execution_count": 4,
   "id": "e7082d0f",
   "metadata": {
    "ExecuteTime": {
     "end_time": "2021-04-14T12:03:08.584727Z",
     "start_time": "2021-04-14T12:03:08.569699Z"
    }
   },
   "outputs": [],
   "source": [
    "dfs_max = df['Rings'].max()"
   ]
  },
  {
   "cell_type": "code",
   "execution_count": 5,
   "id": "efae0f92",
   "metadata": {
    "ExecuteTime": {
     "end_time": "2021-04-14T12:03:08.615709Z",
     "start_time": "2021-04-14T12:03:08.585727Z"
    }
   },
   "outputs": [
    {
     "data": {
      "text/html": [
       "<div>\n",
       "<style scoped>\n",
       "    .dataframe tbody tr th:only-of-type {\n",
       "        vertical-align: middle;\n",
       "    }\n",
       "\n",
       "    .dataframe tbody tr th {\n",
       "        vertical-align: top;\n",
       "    }\n",
       "\n",
       "    .dataframe thead th {\n",
       "        text-align: right;\n",
       "    }\n",
       "</style>\n",
       "<table border=\"1\" class=\"dataframe\">\n",
       "  <thead>\n",
       "    <tr style=\"text-align: right;\">\n",
       "      <th></th>\n",
       "      <th>Sex</th>\n",
       "      <th>Length</th>\n",
       "      <th>Diameter</th>\n",
       "      <th>Height</th>\n",
       "      <th>Whole-weight</th>\n",
       "      <th>Shucked-weight</th>\n",
       "      <th>Viscera-weight</th>\n",
       "      <th>Shell-weight</th>\n",
       "      <th>Rings</th>\n",
       "    </tr>\n",
       "  </thead>\n",
       "  <tbody>\n",
       "    <tr>\n",
       "      <th>0</th>\n",
       "      <td>M</td>\n",
       "      <td>0.455</td>\n",
       "      <td>0.365</td>\n",
       "      <td>0.095</td>\n",
       "      <td>0.5140</td>\n",
       "      <td>0.2245</td>\n",
       "      <td>0.1010</td>\n",
       "      <td>0.1500</td>\n",
       "      <td>15</td>\n",
       "    </tr>\n",
       "    <tr>\n",
       "      <th>1</th>\n",
       "      <td>M</td>\n",
       "      <td>0.350</td>\n",
       "      <td>0.265</td>\n",
       "      <td>0.090</td>\n",
       "      <td>0.2255</td>\n",
       "      <td>0.0995</td>\n",
       "      <td>0.0485</td>\n",
       "      <td>0.0700</td>\n",
       "      <td>7</td>\n",
       "    </tr>\n",
       "    <tr>\n",
       "      <th>2</th>\n",
       "      <td>F</td>\n",
       "      <td>0.530</td>\n",
       "      <td>0.420</td>\n",
       "      <td>0.135</td>\n",
       "      <td>0.6770</td>\n",
       "      <td>0.2565</td>\n",
       "      <td>0.1415</td>\n",
       "      <td>0.2100</td>\n",
       "      <td>9</td>\n",
       "    </tr>\n",
       "    <tr>\n",
       "      <th>3</th>\n",
       "      <td>M</td>\n",
       "      <td>0.440</td>\n",
       "      <td>0.365</td>\n",
       "      <td>0.125</td>\n",
       "      <td>0.5160</td>\n",
       "      <td>0.2155</td>\n",
       "      <td>0.1140</td>\n",
       "      <td>0.1550</td>\n",
       "      <td>10</td>\n",
       "    </tr>\n",
       "    <tr>\n",
       "      <th>4</th>\n",
       "      <td>I</td>\n",
       "      <td>0.330</td>\n",
       "      <td>0.255</td>\n",
       "      <td>0.080</td>\n",
       "      <td>0.2050</td>\n",
       "      <td>0.0895</td>\n",
       "      <td>0.0395</td>\n",
       "      <td>0.0550</td>\n",
       "      <td>7</td>\n",
       "    </tr>\n",
       "    <tr>\n",
       "      <th>...</th>\n",
       "      <td>...</td>\n",
       "      <td>...</td>\n",
       "      <td>...</td>\n",
       "      <td>...</td>\n",
       "      <td>...</td>\n",
       "      <td>...</td>\n",
       "      <td>...</td>\n",
       "      <td>...</td>\n",
       "      <td>...</td>\n",
       "    </tr>\n",
       "    <tr>\n",
       "      <th>4172</th>\n",
       "      <td>F</td>\n",
       "      <td>0.565</td>\n",
       "      <td>0.450</td>\n",
       "      <td>0.165</td>\n",
       "      <td>0.8870</td>\n",
       "      <td>0.3700</td>\n",
       "      <td>0.2390</td>\n",
       "      <td>0.2490</td>\n",
       "      <td>11</td>\n",
       "    </tr>\n",
       "    <tr>\n",
       "      <th>4173</th>\n",
       "      <td>M</td>\n",
       "      <td>0.590</td>\n",
       "      <td>0.440</td>\n",
       "      <td>0.135</td>\n",
       "      <td>0.9660</td>\n",
       "      <td>0.4390</td>\n",
       "      <td>0.2145</td>\n",
       "      <td>0.2605</td>\n",
       "      <td>10</td>\n",
       "    </tr>\n",
       "    <tr>\n",
       "      <th>4174</th>\n",
       "      <td>M</td>\n",
       "      <td>0.600</td>\n",
       "      <td>0.475</td>\n",
       "      <td>0.205</td>\n",
       "      <td>1.1760</td>\n",
       "      <td>0.5255</td>\n",
       "      <td>0.2875</td>\n",
       "      <td>0.3080</td>\n",
       "      <td>9</td>\n",
       "    </tr>\n",
       "    <tr>\n",
       "      <th>4175</th>\n",
       "      <td>F</td>\n",
       "      <td>0.625</td>\n",
       "      <td>0.485</td>\n",
       "      <td>0.150</td>\n",
       "      <td>1.0945</td>\n",
       "      <td>0.5310</td>\n",
       "      <td>0.2610</td>\n",
       "      <td>0.2960</td>\n",
       "      <td>10</td>\n",
       "    </tr>\n",
       "    <tr>\n",
       "      <th>4176</th>\n",
       "      <td>M</td>\n",
       "      <td>0.710</td>\n",
       "      <td>0.555</td>\n",
       "      <td>0.195</td>\n",
       "      <td>1.9485</td>\n",
       "      <td>0.9455</td>\n",
       "      <td>0.3765</td>\n",
       "      <td>0.4950</td>\n",
       "      <td>12</td>\n",
       "    </tr>\n",
       "  </tbody>\n",
       "</table>\n",
       "<p>4177 rows × 9 columns</p>\n",
       "</div>"
      ],
      "text/plain": [
       "     Sex  Length  Diameter  Height  Whole-weight  Shucked-weight  \\\n",
       "0      M   0.455     0.365   0.095        0.5140          0.2245   \n",
       "1      M   0.350     0.265   0.090        0.2255          0.0995   \n",
       "2      F   0.530     0.420   0.135        0.6770          0.2565   \n",
       "3      M   0.440     0.365   0.125        0.5160          0.2155   \n",
       "4      I   0.330     0.255   0.080        0.2050          0.0895   \n",
       "...   ..     ...       ...     ...           ...             ...   \n",
       "4172   F   0.565     0.450   0.165        0.8870          0.3700   \n",
       "4173   M   0.590     0.440   0.135        0.9660          0.4390   \n",
       "4174   M   0.600     0.475   0.205        1.1760          0.5255   \n",
       "4175   F   0.625     0.485   0.150        1.0945          0.5310   \n",
       "4176   M   0.710     0.555   0.195        1.9485          0.9455   \n",
       "\n",
       "      Viscera-weight  Shell-weight  Rings  \n",
       "0             0.1010        0.1500     15  \n",
       "1             0.0485        0.0700      7  \n",
       "2             0.1415        0.2100      9  \n",
       "3             0.1140        0.1550     10  \n",
       "4             0.0395        0.0550      7  \n",
       "...              ...           ...    ...  \n",
       "4172          0.2390        0.2490     11  \n",
       "4173          0.2145        0.2605     10  \n",
       "4174          0.2875        0.3080      9  \n",
       "4175          0.2610        0.2960     10  \n",
       "4176          0.3765        0.4950     12  \n",
       "\n",
       "[4177 rows x 9 columns]"
      ]
     },
     "execution_count": 5,
     "metadata": {},
     "output_type": "execute_result"
    }
   ],
   "source": [
    "df"
   ]
  },
  {
   "cell_type": "markdown",
   "id": "afdf5d35",
   "metadata": {},
   "source": [
    "# 前處理"
   ]
  },
  {
   "cell_type": "code",
   "execution_count": 6,
   "id": "4e228acb",
   "metadata": {
    "ExecuteTime": {
     "end_time": "2021-04-14T12:03:08.633699Z",
     "start_time": "2021-04-14T12:03:08.616708Z"
    }
   },
   "outputs": [],
   "source": [
    "df=df.replace({' ?':np.nan}).dropna()"
   ]
  },
  {
   "cell_type": "code",
   "execution_count": 7,
   "id": "02b60a2d",
   "metadata": {
    "ExecuteTime": {
     "end_time": "2021-04-14T12:03:08.643707Z",
     "start_time": "2021-04-14T12:03:08.634698Z"
    }
   },
   "outputs": [],
   "source": [
    "df['Sex'] = labelencoder.fit_transform(df['Sex'])"
   ]
  },
  {
   "cell_type": "markdown",
   "id": "738a9986",
   "metadata": {
    "ExecuteTime": {
     "end_time": "2021-04-14T11:44:40.943649Z",
     "start_time": "2021-04-14T11:44:40.932654Z"
    }
   },
   "source": [
    "#訓練集 \n",
    "max_value = df['Rings'].max() \n",
    "min_value = df['Rings'].min() \n",
    "df['Rings'] = (df['Rings'] - min_value) / (max_value - min_value)"
   ]
  },
  {
   "cell_type": "code",
   "execution_count": 8,
   "id": "f009bd2c",
   "metadata": {
    "ExecuteTime": {
     "end_time": "2021-04-14T12:03:08.659587Z",
     "start_time": "2021-04-14T12:03:08.645593Z"
    }
   },
   "outputs": [],
   "source": [
    "df_y=df['Rings']"
   ]
  },
  {
   "cell_type": "code",
   "execution_count": 9,
   "id": "e9f0ae3e",
   "metadata": {
    "ExecuteTime": {
     "end_time": "2021-04-14T12:03:08.676587Z",
     "start_time": "2021-04-14T12:03:08.661584Z"
    }
   },
   "outputs": [
    {
     "data": {
      "text/plain": [
       "0       15\n",
       "1        7\n",
       "2        9\n",
       "3       10\n",
       "4        7\n",
       "        ..\n",
       "4172    11\n",
       "4173    10\n",
       "4174     9\n",
       "4175    10\n",
       "4176    12\n",
       "Name: Rings, Length: 4177, dtype: int64"
      ]
     },
     "execution_count": 9,
     "metadata": {},
     "output_type": "execute_result"
    }
   ],
   "source": [
    "df_y"
   ]
  },
  {
   "cell_type": "code",
   "execution_count": 10,
   "id": "e99ac371",
   "metadata": {
    "ExecuteTime": {
     "end_time": "2021-04-14T12:03:08.691567Z",
     "start_time": "2021-04-14T12:03:08.677575Z"
    }
   },
   "outputs": [],
   "source": [
    "df=df.drop('Rings',axis=1)\n",
    "\n",
    "# df=df.drop('Length',axis=1)\n",
    "# df=df.drop('Diameter',axis=1)\n",
    "# df=df.drop('Height',axis=1)\n",
    "# df=df.drop('Whole-weight',axis=1)\n",
    "# df=df.drop('Shucked-weight',axis=1)\n",
    "# df=df.drop('Viscera-weight',axis=1)\n",
    "# df=df.drop('Shell-weight',axis=1)"
   ]
  },
  {
   "cell_type": "code",
   "execution_count": 11,
   "id": "3fe01e8c",
   "metadata": {
    "ExecuteTime": {
     "end_time": "2021-04-14T12:03:08.718570Z",
     "start_time": "2021-04-14T12:03:08.692566Z"
    }
   },
   "outputs": [
    {
     "data": {
      "text/html": [
       "<div>\n",
       "<style scoped>\n",
       "    .dataframe tbody tr th:only-of-type {\n",
       "        vertical-align: middle;\n",
       "    }\n",
       "\n",
       "    .dataframe tbody tr th {\n",
       "        vertical-align: top;\n",
       "    }\n",
       "\n",
       "    .dataframe thead th {\n",
       "        text-align: right;\n",
       "    }\n",
       "</style>\n",
       "<table border=\"1\" class=\"dataframe\">\n",
       "  <thead>\n",
       "    <tr style=\"text-align: right;\">\n",
       "      <th></th>\n",
       "      <th>Sex</th>\n",
       "      <th>Length</th>\n",
       "      <th>Diameter</th>\n",
       "      <th>Height</th>\n",
       "      <th>Whole-weight</th>\n",
       "      <th>Shucked-weight</th>\n",
       "      <th>Viscera-weight</th>\n",
       "      <th>Shell-weight</th>\n",
       "    </tr>\n",
       "  </thead>\n",
       "  <tbody>\n",
       "    <tr>\n",
       "      <th>0</th>\n",
       "      <td>2</td>\n",
       "      <td>0.455</td>\n",
       "      <td>0.365</td>\n",
       "      <td>0.095</td>\n",
       "      <td>0.5140</td>\n",
       "      <td>0.2245</td>\n",
       "      <td>0.1010</td>\n",
       "      <td>0.1500</td>\n",
       "    </tr>\n",
       "    <tr>\n",
       "      <th>1</th>\n",
       "      <td>2</td>\n",
       "      <td>0.350</td>\n",
       "      <td>0.265</td>\n",
       "      <td>0.090</td>\n",
       "      <td>0.2255</td>\n",
       "      <td>0.0995</td>\n",
       "      <td>0.0485</td>\n",
       "      <td>0.0700</td>\n",
       "    </tr>\n",
       "    <tr>\n",
       "      <th>2</th>\n",
       "      <td>0</td>\n",
       "      <td>0.530</td>\n",
       "      <td>0.420</td>\n",
       "      <td>0.135</td>\n",
       "      <td>0.6770</td>\n",
       "      <td>0.2565</td>\n",
       "      <td>0.1415</td>\n",
       "      <td>0.2100</td>\n",
       "    </tr>\n",
       "    <tr>\n",
       "      <th>3</th>\n",
       "      <td>2</td>\n",
       "      <td>0.440</td>\n",
       "      <td>0.365</td>\n",
       "      <td>0.125</td>\n",
       "      <td>0.5160</td>\n",
       "      <td>0.2155</td>\n",
       "      <td>0.1140</td>\n",
       "      <td>0.1550</td>\n",
       "    </tr>\n",
       "    <tr>\n",
       "      <th>4</th>\n",
       "      <td>1</td>\n",
       "      <td>0.330</td>\n",
       "      <td>0.255</td>\n",
       "      <td>0.080</td>\n",
       "      <td>0.2050</td>\n",
       "      <td>0.0895</td>\n",
       "      <td>0.0395</td>\n",
       "      <td>0.0550</td>\n",
       "    </tr>\n",
       "    <tr>\n",
       "      <th>...</th>\n",
       "      <td>...</td>\n",
       "      <td>...</td>\n",
       "      <td>...</td>\n",
       "      <td>...</td>\n",
       "      <td>...</td>\n",
       "      <td>...</td>\n",
       "      <td>...</td>\n",
       "      <td>...</td>\n",
       "    </tr>\n",
       "    <tr>\n",
       "      <th>4172</th>\n",
       "      <td>0</td>\n",
       "      <td>0.565</td>\n",
       "      <td>0.450</td>\n",
       "      <td>0.165</td>\n",
       "      <td>0.8870</td>\n",
       "      <td>0.3700</td>\n",
       "      <td>0.2390</td>\n",
       "      <td>0.2490</td>\n",
       "    </tr>\n",
       "    <tr>\n",
       "      <th>4173</th>\n",
       "      <td>2</td>\n",
       "      <td>0.590</td>\n",
       "      <td>0.440</td>\n",
       "      <td>0.135</td>\n",
       "      <td>0.9660</td>\n",
       "      <td>0.4390</td>\n",
       "      <td>0.2145</td>\n",
       "      <td>0.2605</td>\n",
       "    </tr>\n",
       "    <tr>\n",
       "      <th>4174</th>\n",
       "      <td>2</td>\n",
       "      <td>0.600</td>\n",
       "      <td>0.475</td>\n",
       "      <td>0.205</td>\n",
       "      <td>1.1760</td>\n",
       "      <td>0.5255</td>\n",
       "      <td>0.2875</td>\n",
       "      <td>0.3080</td>\n",
       "    </tr>\n",
       "    <tr>\n",
       "      <th>4175</th>\n",
       "      <td>0</td>\n",
       "      <td>0.625</td>\n",
       "      <td>0.485</td>\n",
       "      <td>0.150</td>\n",
       "      <td>1.0945</td>\n",
       "      <td>0.5310</td>\n",
       "      <td>0.2610</td>\n",
       "      <td>0.2960</td>\n",
       "    </tr>\n",
       "    <tr>\n",
       "      <th>4176</th>\n",
       "      <td>2</td>\n",
       "      <td>0.710</td>\n",
       "      <td>0.555</td>\n",
       "      <td>0.195</td>\n",
       "      <td>1.9485</td>\n",
       "      <td>0.9455</td>\n",
       "      <td>0.3765</td>\n",
       "      <td>0.4950</td>\n",
       "    </tr>\n",
       "  </tbody>\n",
       "</table>\n",
       "<p>4177 rows × 8 columns</p>\n",
       "</div>"
      ],
      "text/plain": [
       "      Sex  Length  Diameter  Height  Whole-weight  Shucked-weight  \\\n",
       "0       2   0.455     0.365   0.095        0.5140          0.2245   \n",
       "1       2   0.350     0.265   0.090        0.2255          0.0995   \n",
       "2       0   0.530     0.420   0.135        0.6770          0.2565   \n",
       "3       2   0.440     0.365   0.125        0.5160          0.2155   \n",
       "4       1   0.330     0.255   0.080        0.2050          0.0895   \n",
       "...   ...     ...       ...     ...           ...             ...   \n",
       "4172    0   0.565     0.450   0.165        0.8870          0.3700   \n",
       "4173    2   0.590     0.440   0.135        0.9660          0.4390   \n",
       "4174    2   0.600     0.475   0.205        1.1760          0.5255   \n",
       "4175    0   0.625     0.485   0.150        1.0945          0.5310   \n",
       "4176    2   0.710     0.555   0.195        1.9485          0.9455   \n",
       "\n",
       "      Viscera-weight  Shell-weight  \n",
       "0             0.1010        0.1500  \n",
       "1             0.0485        0.0700  \n",
       "2             0.1415        0.2100  \n",
       "3             0.1140        0.1550  \n",
       "4             0.0395        0.0550  \n",
       "...              ...           ...  \n",
       "4172          0.2390        0.2490  \n",
       "4173          0.2145        0.2605  \n",
       "4174          0.2875        0.3080  \n",
       "4175          0.2610        0.2960  \n",
       "4176          0.3765        0.4950  \n",
       "\n",
       "[4177 rows x 8 columns]"
      ]
     },
     "execution_count": 11,
     "metadata": {},
     "output_type": "execute_result"
    }
   ],
   "source": [
    "df"
   ]
  },
  {
   "cell_type": "markdown",
   "id": "62ad53f6",
   "metadata": {},
   "source": [
    "# 建立模型(分類)"
   ]
  },
  {
   "cell_type": "code",
   "execution_count": 12,
   "id": "f66f13dc",
   "metadata": {
    "ExecuteTime": {
     "end_time": "2021-04-14T12:03:08.739540Z",
     "start_time": "2021-04-14T12:03:08.719551Z"
    }
   },
   "outputs": [],
   "source": [
    "x_train,x_test,y_train,y_test = train_test_split(df,df_y,test_size=0.2)"
   ]
  },
  {
   "cell_type": "code",
   "execution_count": 13,
   "id": "91b88b69",
   "metadata": {
    "ExecuteTime": {
     "end_time": "2021-04-14T12:03:08.763528Z",
     "start_time": "2021-04-14T12:03:08.740544Z"
    }
   },
   "outputs": [
    {
     "data": {
      "text/html": [
       "<div>\n",
       "<style scoped>\n",
       "    .dataframe tbody tr th:only-of-type {\n",
       "        vertical-align: middle;\n",
       "    }\n",
       "\n",
       "    .dataframe tbody tr th {\n",
       "        vertical-align: top;\n",
       "    }\n",
       "\n",
       "    .dataframe thead th {\n",
       "        text-align: right;\n",
       "    }\n",
       "</style>\n",
       "<table border=\"1\" class=\"dataframe\">\n",
       "  <thead>\n",
       "    <tr style=\"text-align: right;\">\n",
       "      <th></th>\n",
       "      <th>Sex</th>\n",
       "      <th>Length</th>\n",
       "      <th>Diameter</th>\n",
       "      <th>Height</th>\n",
       "      <th>Whole-weight</th>\n",
       "      <th>Shucked-weight</th>\n",
       "      <th>Viscera-weight</th>\n",
       "      <th>Shell-weight</th>\n",
       "    </tr>\n",
       "  </thead>\n",
       "  <tbody>\n",
       "    <tr>\n",
       "      <th>1504</th>\n",
       "      <td>0</td>\n",
       "      <td>0.635</td>\n",
       "      <td>0.505</td>\n",
       "      <td>0.145</td>\n",
       "      <td>1.1345</td>\n",
       "      <td>0.5050</td>\n",
       "      <td>0.2655</td>\n",
       "      <td>0.3150</td>\n",
       "    </tr>\n",
       "    <tr>\n",
       "      <th>3531</th>\n",
       "      <td>1</td>\n",
       "      <td>0.365</td>\n",
       "      <td>0.275</td>\n",
       "      <td>0.090</td>\n",
       "      <td>0.2345</td>\n",
       "      <td>0.1080</td>\n",
       "      <td>0.0510</td>\n",
       "      <td>0.0625</td>\n",
       "    </tr>\n",
       "    <tr>\n",
       "      <th>1562</th>\n",
       "      <td>1</td>\n",
       "      <td>0.450</td>\n",
       "      <td>0.335</td>\n",
       "      <td>0.110</td>\n",
       "      <td>0.4195</td>\n",
       "      <td>0.1810</td>\n",
       "      <td>0.0850</td>\n",
       "      <td>0.1345</td>\n",
       "    </tr>\n",
       "    <tr>\n",
       "      <th>3915</th>\n",
       "      <td>1</td>\n",
       "      <td>0.560</td>\n",
       "      <td>0.445</td>\n",
       "      <td>0.165</td>\n",
       "      <td>1.0285</td>\n",
       "      <td>0.4535</td>\n",
       "      <td>0.2530</td>\n",
       "      <td>0.2750</td>\n",
       "    </tr>\n",
       "    <tr>\n",
       "      <th>2328</th>\n",
       "      <td>0</td>\n",
       "      <td>0.525</td>\n",
       "      <td>0.425</td>\n",
       "      <td>0.145</td>\n",
       "      <td>0.7995</td>\n",
       "      <td>0.3345</td>\n",
       "      <td>0.2090</td>\n",
       "      <td>0.2400</td>\n",
       "    </tr>\n",
       "    <tr>\n",
       "      <th>...</th>\n",
       "      <td>...</td>\n",
       "      <td>...</td>\n",
       "      <td>...</td>\n",
       "      <td>...</td>\n",
       "      <td>...</td>\n",
       "      <td>...</td>\n",
       "      <td>...</td>\n",
       "      <td>...</td>\n",
       "    </tr>\n",
       "    <tr>\n",
       "      <th>2683</th>\n",
       "      <td>2</td>\n",
       "      <td>0.625</td>\n",
       "      <td>0.495</td>\n",
       "      <td>0.185</td>\n",
       "      <td>1.3835</td>\n",
       "      <td>0.7105</td>\n",
       "      <td>0.3005</td>\n",
       "      <td>0.3450</td>\n",
       "    </tr>\n",
       "    <tr>\n",
       "      <th>1522</th>\n",
       "      <td>2</td>\n",
       "      <td>0.680</td>\n",
       "      <td>0.515</td>\n",
       "      <td>0.170</td>\n",
       "      <td>1.6115</td>\n",
       "      <td>0.8415</td>\n",
       "      <td>0.3060</td>\n",
       "      <td>0.3950</td>\n",
       "    </tr>\n",
       "    <tr>\n",
       "      <th>3959</th>\n",
       "      <td>0</td>\n",
       "      <td>0.680</td>\n",
       "      <td>0.550</td>\n",
       "      <td>0.190</td>\n",
       "      <td>1.8070</td>\n",
       "      <td>0.8225</td>\n",
       "      <td>0.3655</td>\n",
       "      <td>0.5150</td>\n",
       "    </tr>\n",
       "    <tr>\n",
       "      <th>1284</th>\n",
       "      <td>1</td>\n",
       "      <td>0.500</td>\n",
       "      <td>0.410</td>\n",
       "      <td>0.140</td>\n",
       "      <td>0.6615</td>\n",
       "      <td>0.2585</td>\n",
       "      <td>0.1625</td>\n",
       "      <td>0.1960</td>\n",
       "    </tr>\n",
       "    <tr>\n",
       "      <th>104</th>\n",
       "      <td>2</td>\n",
       "      <td>0.605</td>\n",
       "      <td>0.470</td>\n",
       "      <td>0.160</td>\n",
       "      <td>1.1735</td>\n",
       "      <td>0.4975</td>\n",
       "      <td>0.2405</td>\n",
       "      <td>0.3450</td>\n",
       "    </tr>\n",
       "  </tbody>\n",
       "</table>\n",
       "<p>3341 rows × 8 columns</p>\n",
       "</div>"
      ],
      "text/plain": [
       "      Sex  Length  Diameter  Height  Whole-weight  Shucked-weight  \\\n",
       "1504    0   0.635     0.505   0.145        1.1345          0.5050   \n",
       "3531    1   0.365     0.275   0.090        0.2345          0.1080   \n",
       "1562    1   0.450     0.335   0.110        0.4195          0.1810   \n",
       "3915    1   0.560     0.445   0.165        1.0285          0.4535   \n",
       "2328    0   0.525     0.425   0.145        0.7995          0.3345   \n",
       "...   ...     ...       ...     ...           ...             ...   \n",
       "2683    2   0.625     0.495   0.185        1.3835          0.7105   \n",
       "1522    2   0.680     0.515   0.170        1.6115          0.8415   \n",
       "3959    0   0.680     0.550   0.190        1.8070          0.8225   \n",
       "1284    1   0.500     0.410   0.140        0.6615          0.2585   \n",
       "104     2   0.605     0.470   0.160        1.1735          0.4975   \n",
       "\n",
       "      Viscera-weight  Shell-weight  \n",
       "1504          0.2655        0.3150  \n",
       "3531          0.0510        0.0625  \n",
       "1562          0.0850        0.1345  \n",
       "3915          0.2530        0.2750  \n",
       "2328          0.2090        0.2400  \n",
       "...              ...           ...  \n",
       "2683          0.3005        0.3450  \n",
       "1522          0.3060        0.3950  \n",
       "3959          0.3655        0.5150  \n",
       "1284          0.1625        0.1960  \n",
       "104           0.2405        0.3450  \n",
       "\n",
       "[3341 rows x 8 columns]"
      ]
     },
     "execution_count": 13,
     "metadata": {},
     "output_type": "execute_result"
    }
   ],
   "source": [
    "x_train"
   ]
  },
  {
   "cell_type": "code",
   "execution_count": 14,
   "id": "367ad334",
   "metadata": {
    "ExecuteTime": {
     "end_time": "2021-04-14T12:03:08.982771Z",
     "start_time": "2021-04-14T12:03:08.765525Z"
    }
   },
   "outputs": [
    {
     "name": "stdout",
     "output_type": "stream",
     "text": [
      "Model: \"sequential\"\n",
      "_________________________________________________________________\n",
      "Layer (type)                 Output Shape              Param #   \n",
      "=================================================================\n",
      "dense (Dense)                (None, 16)                144       \n",
      "_________________________________________________________________\n",
      "batch_normalization (BatchNo (None, 16)                64        \n",
      "_________________________________________________________________\n",
      "dense_1 (Dense)              (None, 32)                544       \n",
      "_________________________________________________________________\n",
      "batch_normalization_1 (Batch (None, 32)                128       \n",
      "_________________________________________________________________\n",
      "dense_2 (Dense)              (None, 32)                1056      \n",
      "_________________________________________________________________\n",
      "batch_normalization_2 (Batch (None, 32)                128       \n",
      "_________________________________________________________________\n",
      "dense_3 (Dense)              (None, 16)                528       \n",
      "_________________________________________________________________\n",
      "dropout (Dropout)            (None, 16)                0         \n",
      "_________________________________________________________________\n",
      "dense_4 (Dense)              (None, 1)                 17        \n",
      "=================================================================\n",
      "Total params: 2,609\n",
      "Trainable params: 2,449\n",
      "Non-trainable params: 160\n",
      "_________________________________________________________________\n"
     ]
    }
   ],
   "source": [
    "model = Sequential()\n",
    "\n",
    "model.add(Input(shape=(x_train.shape[1],)))\n",
    "model.add(Dense(units=16, kernel_initializer='uniform', activation='relu'))\n",
    "model.add(BatchNormalization())\n",
    "model.add(Dense(units=32, kernel_initializer='uniform', activation='relu')) \n",
    "model.add(BatchNormalization())\n",
    "# model.add(Dense(units=64, kernel_initializer='he_uniform', activation='elu'))\n",
    "# model.add(BatchNormalization())\n",
    "# model.add(Dense(units=128, kernel_initializer='he_uniform', activation='relu'))\n",
    "# model.add(BatchNormalization())\n",
    "# model.add(Dense(units=64, kernel_initializer='he_uniform', activation='elu'))\n",
    "# model.add(BatchNormalization())\n",
    "model.add(Dense(units=32, kernel_initializer='uniform', activation='relu'))\n",
    "model.add(BatchNormalization())\n",
    "model.add(Dense(units=16, kernel_initializer='uniform', activation='relu'))\n",
    "model.add(Dropout(0.1))\n",
    "model.add(Dense(1, kernel_initializer=\"uniform\",activation='linear'))\n",
    "\n",
    "model.summary()\n"
   ]
  },
  {
   "cell_type": "code",
   "execution_count": 15,
   "id": "c75548f5",
   "metadata": {
    "ExecuteTime": {
     "end_time": "2021-04-14T12:03:08.988774Z",
     "start_time": "2021-04-14T12:03:08.983768Z"
    }
   },
   "outputs": [
    {
     "data": {
      "text/plain": [
       "1504    10\n",
       "3531     7\n",
       "1562     7\n",
       "3915    11\n",
       "2328    15\n",
       "        ..\n",
       "2683    11\n",
       "1522    11\n",
       "3959    11\n",
       "1284     9\n",
       "104     12\n",
       "Name: Rings, Length: 3341, dtype: int64"
      ]
     },
     "execution_count": 15,
     "metadata": {},
     "output_type": "execute_result"
    }
   ],
   "source": [
    "y_train"
   ]
  },
  {
   "cell_type": "code",
   "execution_count": 16,
   "id": "34921c08",
   "metadata": {
    "ExecuteTime": {
     "end_time": "2021-04-14T12:03:09.018761Z",
     "start_time": "2021-04-14T12:03:08.989765Z"
    }
   },
   "outputs": [],
   "source": [
    "precision=tf.keras.metrics.Precision(name='precision')\n",
    "recall=tf.keras.metrics.Recall(name='recall')\n",
    "accuracy=tf.keras.metrics.Accuracy(name='accuracy')\n",
    "callback = tf.keras.callbacks.EarlyStopping(monitor='recall',mode='max', patience=5 ,restore_best_weights=True)"
   ]
  },
  {
   "cell_type": "code",
   "execution_count": 17,
   "id": "e1d06130",
   "metadata": {
    "ExecuteTime": {
     "end_time": "2021-04-14T12:03:09.023753Z",
     "start_time": "2021-04-14T12:03:09.019747Z"
    }
   },
   "outputs": [],
   "source": [
    "Adam = tf.optimizers.Adam(lr=0.003, beta_1=0.9, beta_2=0.997, epsilon=1e-08, decay=0.0)"
   ]
  },
  {
   "cell_type": "code",
   "execution_count": 18,
   "id": "fe0c124a",
   "metadata": {
    "ExecuteTime": {
     "end_time": "2021-04-14T12:03:09.044751Z",
     "start_time": "2021-04-14T12:03:09.024745Z"
    }
   },
   "outputs": [],
   "source": [
    "model.compile(optimizer=Adam, \n",
    "              loss='mean_squared_error',\n",
    "              metrics='mape'\n",
    "              )"
   ]
  },
  {
   "cell_type": "code",
   "execution_count": 19,
   "id": "7e61bb78",
   "metadata": {
    "ExecuteTime": {
     "end_time": "2021-04-14T12:03:40.391983Z",
     "start_time": "2021-04-14T12:03:09.045732Z"
    }
   },
   "outputs": [
    {
     "name": "stdout",
     "output_type": "stream",
     "text": [
      "Epoch 1/100\n",
      "335/335 [==============================] - 1s 955us/step - loss: 44.7784 - mape: 53.3391\n",
      "Epoch 2/100\n",
      "335/335 [==============================] - 0s 901us/step - loss: 10.0641 - mape: 24.3621\n",
      "Epoch 3/100\n",
      "335/335 [==============================] - 0s 898us/step - loss: 7.1501 - mape: 21.6511\n",
      "Epoch 4/100\n",
      "335/335 [==============================] - 0s 895us/step - loss: 6.6952 - mape: 20.1804\n",
      "Epoch 5/100\n",
      "335/335 [==============================] - 0s 889us/step - loss: 6.6145 - mape: 19.5314\n",
      "Epoch 6/100\n",
      "335/335 [==============================] - 0s 892us/step - loss: 6.9794 - mape: 20.9278\n",
      "Epoch 7/100\n",
      "335/335 [==============================] - 0s 892us/step - loss: 6.6967 - mape: 19.9543\n",
      "Epoch 8/100\n",
      "335/335 [==============================] - 0s 919us/step - loss: 6.1543 - mape: 19.1128\n",
      "Epoch 9/100\n",
      "335/335 [==============================] - 0s 910us/step - loss: 6.2405 - mape: 19.5025\n",
      "Epoch 10/100\n",
      "335/335 [==============================] - 0s 955us/step - loss: 6.7060 - mape: 19.4148\n",
      "Epoch 11/100\n",
      "335/335 [==============================] - 0s 962us/step - loss: 5.9108 - mape: 18.7461\n",
      "Epoch 12/100\n",
      "335/335 [==============================] - 0s 981us/step - loss: 6.4692 - mape: 19.1472\n",
      "Epoch 13/100\n",
      "335/335 [==============================] - 0s 928us/step - loss: 6.2084 - mape: 18.8835\n",
      "Epoch 14/100\n",
      "335/335 [==============================] - 0s 963us/step - loss: 5.8617 - mape: 18.7420\n",
      "Epoch 15/100\n",
      "335/335 [==============================] - 0s 901us/step - loss: 6.0380 - mape: 18.5577\n",
      "Epoch 16/100\n",
      "335/335 [==============================] - 0s 967us/step - loss: 6.0255 - mape: 19.1972\n",
      "Epoch 17/100\n",
      "335/335 [==============================] - 0s 889us/step - loss: 6.3771 - mape: 19.0794\n",
      "Epoch 18/100\n",
      "335/335 [==============================] - 0s 959us/step - loss: 5.3628 - mape: 18.0909\n",
      "Epoch 19/100\n",
      "335/335 [==============================] - 0s 904us/step - loss: 6.0498 - mape: 18.4994\n",
      "Epoch 20/100\n",
      "335/335 [==============================] - 0s 895us/step - loss: 5.3022 - mape: 17.8347\n",
      "Epoch 21/100\n",
      "335/335 [==============================] - 0s 959us/step - loss: 6.1567 - mape: 18.3627\n",
      "Epoch 22/100\n",
      "335/335 [==============================] - 0s 877us/step - loss: 5.8766 - mape: 18.2690\n",
      "Epoch 23/100\n",
      "335/335 [==============================] - 0s 877us/step - loss: 5.6294 - mape: 17.7134\n",
      "Epoch 24/100\n",
      "335/335 [==============================] - 0s 958us/step - loss: 5.3035 - mape: 17.7681\n",
      "Epoch 25/100\n",
      "335/335 [==============================] - 0s 956us/step - loss: 5.7892 - mape: 18.5209\n",
      "Epoch 26/100\n",
      "335/335 [==============================] - 0s 883us/step - loss: 5.9784 - mape: 18.8874\n",
      "Epoch 27/100\n",
      "335/335 [==============================] - 0s 883us/step - loss: 5.5472 - mape: 18.2476\n",
      "Epoch 28/100\n",
      "335/335 [==============================] - 0s 881us/step - loss: 5.3808 - mape: 17.9599\n",
      "Epoch 29/100\n",
      "335/335 [==============================] - 0s 877us/step - loss: 5.8967 - mape: 17.6695\n",
      "Epoch 30/100\n",
      "335/335 [==============================] - 0s 886us/step - loss: 6.2297 - mape: 18.7772\n",
      "Epoch 31/100\n",
      "335/335 [==============================] - 0s 893us/step - loss: 5.7718 - mape: 18.0553\n",
      "Epoch 32/100\n",
      "335/335 [==============================] - 0s 889us/step - loss: 5.3933 - mape: 17.6207\n",
      "Epoch 33/100\n",
      "335/335 [==============================] - 0s 880us/step - loss: 6.0293 - mape: 18.5378\n",
      "Epoch 34/100\n",
      "335/335 [==============================] - 0s 885us/step - loss: 5.4304 - mape: 17.7954\n",
      "Epoch 35/100\n",
      "335/335 [==============================] - 0s 880us/step - loss: 5.5356 - mape: 17.5256\n",
      "Epoch 36/100\n",
      "335/335 [==============================] - 0s 877us/step - loss: 5.7719 - mape: 18.1383\n",
      "Epoch 37/100\n",
      "335/335 [==============================] - 0s 880us/step - loss: 5.3668 - mape: 17.7792\n",
      "Epoch 38/100\n",
      "335/335 [==============================] - 0s 877us/step - loss: 5.5727 - mape: 17.4576\n",
      "Epoch 39/100\n",
      "335/335 [==============================] - 0s 876us/step - loss: 5.9285 - mape: 18.4340\n",
      "Epoch 40/100\n",
      "335/335 [==============================] - 0s 877us/step - loss: 5.3318 - mape: 17.1791\n",
      "Epoch 41/100\n",
      "335/335 [==============================] - 0s 874us/step - loss: 5.5990 - mape: 17.9333\n",
      "Epoch 42/100\n",
      "335/335 [==============================] - 0s 889us/step - loss: 5.6570 - mape: 17.8318\n",
      "Epoch 43/100\n",
      "335/335 [==============================] - 0s 897us/step - loss: 5.4254 - mape: 18.4449\n",
      "Epoch 44/100\n",
      "335/335 [==============================] - 0s 886us/step - loss: 5.7007 - mape: 17.8341\n",
      "Epoch 45/100\n",
      "335/335 [==============================] - 0s 886us/step - loss: 5.3429 - mape: 17.4542\n",
      "Epoch 46/100\n",
      "335/335 [==============================] - 0s 877us/step - loss: 5.1233 - mape: 17.4418\n",
      "Epoch 47/100\n",
      "335/335 [==============================] - 0s 888us/step - loss: 5.3845 - mape: 17.0530\n",
      "Epoch 48/100\n",
      "335/335 [==============================] - 0s 883us/step - loss: 5.8390 - mape: 18.0996\n",
      "Epoch 49/100\n",
      "335/335 [==============================] - 0s 877us/step - loss: 5.6828 - mape: 17.2069\n",
      "Epoch 50/100\n",
      "335/335 [==============================] - 0s 892us/step - loss: 5.5684 - mape: 17.4122\n",
      "Epoch 51/100\n",
      "335/335 [==============================] - 0s 883us/step - loss: 5.2961 - mape: 17.8154\n",
      "Epoch 52/100\n",
      "335/335 [==============================] - 0s 883us/step - loss: 5.0706 - mape: 17.0480\n",
      "Epoch 53/100\n",
      "335/335 [==============================] - 0s 890us/step - loss: 5.2868 - mape: 17.9849\n",
      "Epoch 54/100\n",
      "335/335 [==============================] - 0s 902us/step - loss: 5.5224 - mape: 17.6637\n",
      "Epoch 55/100\n",
      "335/335 [==============================] - 0s 907us/step - loss: 5.3069 - mape: 17.4613\n",
      "Epoch 56/100\n",
      "335/335 [==============================] - 0s 886us/step - loss: 5.2947 - mape: 17.1815\n",
      "Epoch 57/100\n",
      "335/335 [==============================] - 0s 896us/step - loss: 5.5887 - mape: 17.8636\n",
      "Epoch 58/100\n",
      "335/335 [==============================] - 0s 880us/step - loss: 5.0673 - mape: 16.8447\n",
      "Epoch 59/100\n",
      "335/335 [==============================] - 0s 880us/step - loss: 5.2465 - mape: 17.1572\n",
      "Epoch 60/100\n",
      "335/335 [==============================] - 0s 883us/step - loss: 5.7442 - mape: 17.6959\n",
      "Epoch 61/100\n",
      "335/335 [==============================] - 0s 887us/step - loss: 5.1873 - mape: 17.4316\n",
      "Epoch 62/100\n",
      "335/335 [==============================] - 0s 880us/step - loss: 5.1293 - mape: 17.3345\n",
      "Epoch 63/100\n",
      "335/335 [==============================] - 0s 886us/step - loss: 5.5377 - mape: 17.8580\n",
      "Epoch 64/100\n",
      "335/335 [==============================] - 0s 882us/step - loss: 5.8919 - mape: 18.5229\n",
      "Epoch 65/100\n",
      "335/335 [==============================] - 0s 886us/step - loss: 5.1570 - mape: 17.0057\n",
      "Epoch 66/100\n",
      "335/335 [==============================] - 0s 898us/step - loss: 5.2975 - mape: 17.2514\n",
      "Epoch 67/100\n",
      "335/335 [==============================] - 0s 901us/step - loss: 5.2092 - mape: 16.9096\n",
      "Epoch 68/100\n",
      "335/335 [==============================] - 0s 889us/step - loss: 5.4444 - mape: 17.3869\n",
      "Epoch 69/100\n",
      "335/335 [==============================] - 0s 891us/step - loss: 5.0894 - mape: 16.9876\n",
      "Epoch 70/100\n",
      "335/335 [==============================] - 0s 889us/step - loss: 5.3490 - mape: 17.6493\n",
      "Epoch 71/100\n",
      "335/335 [==============================] - 0s 889us/step - loss: 5.4002 - mape: 17.5110\n",
      "Epoch 72/100\n",
      "335/335 [==============================] - 0s 886us/step - loss: 5.0421 - mape: 17.2515\n",
      "Epoch 73/100\n",
      "335/335 [==============================] - 0s 886us/step - loss: 5.1358 - mape: 17.0138\n",
      "Epoch 74/100\n",
      "335/335 [==============================] - 0s 885us/step - loss: 4.8655 - mape: 16.6267\n",
      "Epoch 75/100\n",
      "335/335 [==============================] - 0s 889us/step - loss: 5.2023 - mape: 17.8600\n",
      "Epoch 76/100\n",
      "335/335 [==============================] - 0s 886us/step - loss: 5.5354 - mape: 17.4501\n",
      "Epoch 77/100\n",
      "335/335 [==============================] - 0s 893us/step - loss: 5.0175 - mape: 17.0501\n",
      "Epoch 78/100\n",
      "335/335 [==============================] - 0s 904us/step - loss: 5.1062 - mape: 17.0499\n",
      "Epoch 79/100\n",
      "335/335 [==============================] - 0s 889us/step - loss: 5.1599 - mape: 17.0635\n",
      "Epoch 80/100\n",
      "335/335 [==============================] - 0s 910us/step - loss: 5.3409 - mape: 17.8077\n",
      "Epoch 81/100\n",
      "335/335 [==============================] - 0s 899us/step - loss: 5.4147 - mape: 17.0288\n",
      "Epoch 82/100\n"
     ]
    },
    {
     "name": "stdout",
     "output_type": "stream",
     "text": [
      "335/335 [==============================] - 0s 892us/step - loss: 4.9100 - mape: 17.0515\n",
      "Epoch 83/100\n",
      "335/335 [==============================] - 0s 883us/step - loss: 5.3252 - mape: 17.6320\n",
      "Epoch 84/100\n",
      "335/335 [==============================] - 0s 896us/step - loss: 5.1688 - mape: 16.9921\n",
      "Epoch 85/100\n",
      "335/335 [==============================] - 0s 889us/step - loss: 4.9357 - mape: 16.6030\n",
      "Epoch 86/100\n",
      "335/335 [==============================] - 0s 886us/step - loss: 5.1299 - mape: 17.2092\n",
      "Epoch 87/100\n",
      "335/335 [==============================] - 0s 887us/step - loss: 4.9871 - mape: 16.7246\n",
      "Epoch 88/100\n",
      "335/335 [==============================] - 0s 895us/step - loss: 4.9387 - mape: 16.9811\n",
      "Epoch 89/100\n",
      "335/335 [==============================] - 0s 901us/step - loss: 5.3215 - mape: 17.1551\n",
      "Epoch 90/100\n",
      "335/335 [==============================] - 0s 902us/step - loss: 4.8706 - mape: 16.9464\n",
      "Epoch 91/100\n",
      "335/335 [==============================] - 0s 889us/step - loss: 4.9741 - mape: 17.0402\n",
      "Epoch 92/100\n",
      "335/335 [==============================] - 0s 895us/step - loss: 4.9181 - mape: 17.1814\n",
      "Epoch 93/100\n",
      "335/335 [==============================] - 0s 893us/step - loss: 5.0073 - mape: 17.3264\n",
      "Epoch 94/100\n",
      "335/335 [==============================] - 0s 889us/step - loss: 4.9684 - mape: 17.5261\n",
      "Epoch 95/100\n",
      "335/335 [==============================] - 0s 889us/step - loss: 5.0478 - mape: 17.4114\n",
      "Epoch 96/100\n",
      "335/335 [==============================] - 0s 886us/step - loss: 4.8200 - mape: 17.0900\n",
      "Epoch 97/100\n",
      "335/335 [==============================] - 0s 888us/step - loss: 5.1425 - mape: 17.5759\n",
      "Epoch 98/100\n",
      "335/335 [==============================] - 0s 895us/step - loss: 5.0765 - mape: 17.3024\n",
      "Epoch 99/100\n",
      "335/335 [==============================] - 0s 889us/step - loss: 5.2786 - mape: 16.9821\n",
      "Epoch 100/100\n",
      "335/335 [==============================] - 0s 892us/step - loss: 5.4251 - mape: 17.2275\n"
     ]
    }
   ],
   "source": [
    "history = model.fit(x=x_train, y=y_train,epochs=100,batch_size =10 )"
   ]
  },
  {
   "cell_type": "code",
   "execution_count": 20,
   "id": "f86310b4",
   "metadata": {
    "ExecuteTime": {
     "end_time": "2021-04-14T12:03:40.621861Z",
     "start_time": "2021-04-14T12:03:40.392982Z"
    }
   },
   "outputs": [
    {
     "name": "stdout",
     "output_type": "stream",
     "text": [
      "27/27 [==============================] - 0s 577us/step - loss: 5.1890 - mape: 15.6347\n"
     ]
    }
   ],
   "source": [
    "preds = model.evaluate(x = x_test, y = y_test)"
   ]
  },
  {
   "cell_type": "code",
   "execution_count": 21,
   "id": "69c0e52d",
   "metadata": {
    "ExecuteTime": {
     "end_time": "2021-04-14T12:03:40.783874Z",
     "start_time": "2021-04-14T12:03:40.622852Z"
    }
   },
   "outputs": [
    {
     "name": "stdout",
     "output_type": "stream",
     "text": [
      "RMSE: 2.277939\n",
      "MAPE: 15.634720\n"
     ]
    }
   ],
   "source": [
    "preds = model.predict(x_test)\n",
    "\n",
    "# y_test = y_test * dfs_max\n",
    "# preds = preds * dfs_max\n",
    "\n",
    "rmse = np.sqrt(mean_squared_error(y_test, preds))\n",
    "print(\"RMSE: %f\" % (rmse))\n",
    "mape = np.mean(np.abs((preds.flatten() - y_test) / y_test)) * 100\n",
    "print(\"MAPE: %f\" % (mape))"
   ]
  },
  {
   "cell_type": "code",
   "execution_count": 24,
   "id": "fa915fc5",
   "metadata": {
    "ExecuteTime": {
     "end_time": "2021-04-14T12:05:10.180323Z",
     "start_time": "2021-04-14T12:05:10.071399Z"
    }
   },
   "outputs": [
    {
     "data": {
      "image/png": "[encoded data removed]",
      "text/plain": [
       "<Figure size 432x288 with 1 Axes>"
      ]
     },
     "metadata": {
      "needs_background": "light"
     },
     "output_type": "display_data"
    }
   ],
   "source": [
    "plt.plot(history.history['loss'], label='RMSE')\n",
    "plt.plot(history.history['mape'], label='mape')\n",
    "plt.legend()\n",
    "plt.show()"
   ]
  },
  {
   "cell_type": "code",
   "execution_count": null,
   "id": "538743ef",
   "metadata": {},
   "outputs": [],
   "source": []
  }
 ],
 "metadata": {
  "kernelspec": {
   "display_name": "Python 3",
   "language": "python",
   "name": "python3"
  },
  "language_info": {
   "codemirror_mode": {
    "name": "ipython",
    "version": 3
   },
   "file_extension": ".py",
   "mimetype": "text/x-python",
   "name": "python",
   "nbconvert_exporter": "python",
   "pygments_lexer": "ipython3",
   "version": "3.8.8"
  },
  "toc": {
   "base_numbering": 1,
   "nav_menu": {},
   "number_sections": true,
   "sideBar": true,
   "skip_h1_title": false,
   "title_cell": "Table of Contents",
   "title_sidebar": "Contents",
   "toc_cell": false,
   "toc_position": {
    "height": "calc(100% - 180px)",
    "left": "10px",
    "top": "150px",
    "width": "320px"
   },
   "toc_section_display": true,
   "toc_window_display": false
  }
 },
 "nbformat": 4,
 "nbformat_minor": 5
}
