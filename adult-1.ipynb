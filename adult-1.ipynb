{
 "cells": [
  {
   "cell_type": "code",
   "execution_count": 1,
   "id": "b01ba12e",
   "metadata": {
    "ExecuteTime": {
     "end_time": "2021-04-14T12:08:08.801721Z",
     "start_time": "2021-04-14T12:08:05.981271Z"
    }
   },
   "outputs": [],
   "source": [
    "import numpy as np\n",
    "import pandas as pd\n",
    "import matplotlib.pyplot as plt\n",
    "\n",
    "import tensorflow as tf\n",
    "from tensorflow.keras.models import Model,Sequential\n",
    "from tensorflow.keras.layers import Input, Dense, Activation,Dropout,Conv1D,MaxPooling1D,LSTM,BatchNormalization\n",
    "\n",
    "from keras import metrics,layers\n",
    "from keras.datasets import mnist\n",
    "from keras.utils import np_utils\n",
    "from keras.models import Sequential\n",
    "from keras.optimizers import Adam\n",
    "\n",
    "from sklearn.model_selection import train_test_split\n",
    "from sklearn.preprocessing import LabelEncoder,MinMaxScaler\n",
    "\n",
    "labelencoder = LabelEncoder()\n",
    "scaler = MinMaxScaler()"
   ]
  },
  {
   "cell_type": "code",
   "execution_count": 2,
   "id": "444daf46",
   "metadata": {
    "ExecuteTime": {
     "end_time": "2021-04-14T12:08:08.897668Z",
     "start_time": "2021-04-14T12:08:08.802706Z"
    },
    "scrolled": true
   },
   "outputs": [],
   "source": [
    "df = pd.read_csv('adult.data',header=None,encoding='utf-8')\n",
    "td = pd.read_csv('adult.test',header=None,encoding='utf-8')"
   ]
  },
  {
   "cell_type": "code",
   "execution_count": 3,
   "id": "9bf9a602",
   "metadata": {
    "ExecuteTime": {
     "end_time": "2021-04-14T12:08:08.902649Z",
     "start_time": "2021-04-14T12:08:08.898651Z"
    }
   },
   "outputs": [],
   "source": [
    "df.columns=['age', 'workclass', 'fnlwgt', 'education', 'education-num','marital-status','occupation','relationship','race','sex','capital-gain','capital-loss','hours-per-week','native-country','salary']\n",
    "td.columns=['age', 'workclass', 'fnlwgt', 'education', 'education-num','marital-status','occupation','relationship','race','sex','capital-gain','capital-loss','hours-per-week','native-country','salary']"
   ]
  },
  {
   "cell_type": "code",
   "execution_count": 4,
   "id": "3c479ee5",
   "metadata": {
    "ExecuteTime": {
     "end_time": "2021-04-14T12:08:08.953619Z",
     "start_time": "2021-04-14T12:08:08.903648Z"
    }
   },
   "outputs": [],
   "source": [
    "df=df.replace({' ?':np.nan}).dropna()"
   ]
  },
  {
   "cell_type": "code",
   "execution_count": 5,
   "id": "542a13a3",
   "metadata": {
    "ExecuteTime": {
     "end_time": "2021-04-14T12:08:08.964618Z",
     "start_time": "2021-04-14T12:08:08.954632Z"
    }
   },
   "outputs": [],
   "source": [
    "df_y=pd.get_dummies(df['education'])\n",
    "td_y=pd.get_dummies(td['education'])"
   ]
  },
  {
   "cell_type": "code",
   "execution_count": 6,
   "id": "6c7a911e",
   "metadata": {
    "ExecuteTime": {
     "end_time": "2021-04-14T12:08:08.976606Z",
     "start_time": "2021-04-14T12:08:08.965614Z"
    }
   },
   "outputs": [],
   "source": [
    "df=df.drop('education',axis=1)\n",
    "# df=df.drop('education-num',axis=1)\n",
    "\n",
    "td=td.drop('education',axis=1)\n",
    "# td=td.drop('education-num',axis=1)"
   ]
  },
  {
   "cell_type": "code",
   "execution_count": 7,
   "id": "8d726649",
   "metadata": {
    "ExecuteTime": {
     "end_time": "2021-04-14T12:08:09.009605Z",
     "start_time": "2021-04-14T12:08:08.978606Z"
    }
   },
   "outputs": [
    {
     "data": {
      "text/html": [
       "<div>\n",
       "<style scoped>\n",
       "    .dataframe tbody tr th:only-of-type {\n",
       "        vertical-align: middle;\n",
       "    }\n",
       "\n",
       "    .dataframe tbody tr th {\n",
       "        vertical-align: top;\n",
       "    }\n",
       "\n",
       "    .dataframe thead th {\n",
       "        text-align: right;\n",
       "    }\n",
       "</style>\n",
       "<table border=\"1\" class=\"dataframe\">\n",
       "  <thead>\n",
       "    <tr style=\"text-align: right;\">\n",
       "      <th></th>\n",
       "      <th>age</th>\n",
       "      <th>workclass</th>\n",
       "      <th>fnlwgt</th>\n",
       "      <th>education-num</th>\n",
       "      <th>marital-status</th>\n",
       "      <th>occupation</th>\n",
       "      <th>relationship</th>\n",
       "      <th>race</th>\n",
       "      <th>sex</th>\n",
       "      <th>capital-gain</th>\n",
       "      <th>capital-loss</th>\n",
       "      <th>hours-per-week</th>\n",
       "      <th>native-country</th>\n",
       "      <th>salary</th>\n",
       "    </tr>\n",
       "  </thead>\n",
       "  <tbody>\n",
       "    <tr>\n",
       "      <th>0</th>\n",
       "      <td>39</td>\n",
       "      <td>State-gov</td>\n",
       "      <td>77516</td>\n",
       "      <td>13</td>\n",
       "      <td>Never-married</td>\n",
       "      <td>Adm-clerical</td>\n",
       "      <td>Not-in-family</td>\n",
       "      <td>White</td>\n",
       "      <td>Male</td>\n",
       "      <td>2174</td>\n",
       "      <td>0</td>\n",
       "      <td>40</td>\n",
       "      <td>United-States</td>\n",
       "      <td>&lt;=50K</td>\n",
       "    </tr>\n",
       "    <tr>\n",
       "      <th>1</th>\n",
       "      <td>50</td>\n",
       "      <td>Self-emp-not-inc</td>\n",
       "      <td>83311</td>\n",
       "      <td>13</td>\n",
       "      <td>Married-civ-spouse</td>\n",
       "      <td>Exec-managerial</td>\n",
       "      <td>Husband</td>\n",
       "      <td>White</td>\n",
       "      <td>Male</td>\n",
       "      <td>0</td>\n",
       "      <td>0</td>\n",
       "      <td>13</td>\n",
       "      <td>United-States</td>\n",
       "      <td>&lt;=50K</td>\n",
       "    </tr>\n",
       "    <tr>\n",
       "      <th>2</th>\n",
       "      <td>38</td>\n",
       "      <td>Private</td>\n",
       "      <td>215646</td>\n",
       "      <td>9</td>\n",
       "      <td>Divorced</td>\n",
       "      <td>Handlers-cleaners</td>\n",
       "      <td>Not-in-family</td>\n",
       "      <td>White</td>\n",
       "      <td>Male</td>\n",
       "      <td>0</td>\n",
       "      <td>0</td>\n",
       "      <td>40</td>\n",
       "      <td>United-States</td>\n",
       "      <td>&lt;=50K</td>\n",
       "    </tr>\n",
       "    <tr>\n",
       "      <th>3</th>\n",
       "      <td>53</td>\n",
       "      <td>Private</td>\n",
       "      <td>234721</td>\n",
       "      <td>7</td>\n",
       "      <td>Married-civ-spouse</td>\n",
       "      <td>Handlers-cleaners</td>\n",
       "      <td>Husband</td>\n",
       "      <td>Black</td>\n",
       "      <td>Male</td>\n",
       "      <td>0</td>\n",
       "      <td>0</td>\n",
       "      <td>40</td>\n",
       "      <td>United-States</td>\n",
       "      <td>&lt;=50K</td>\n",
       "    </tr>\n",
       "    <tr>\n",
       "      <th>4</th>\n",
       "      <td>28</td>\n",
       "      <td>Private</td>\n",
       "      <td>338409</td>\n",
       "      <td>13</td>\n",
       "      <td>Married-civ-spouse</td>\n",
       "      <td>Prof-specialty</td>\n",
       "      <td>Wife</td>\n",
       "      <td>Black</td>\n",
       "      <td>Female</td>\n",
       "      <td>0</td>\n",
       "      <td>0</td>\n",
       "      <td>40</td>\n",
       "      <td>Cuba</td>\n",
       "      <td>&lt;=50K</td>\n",
       "    </tr>\n",
       "    <tr>\n",
       "      <th>...</th>\n",
       "      <td>...</td>\n",
       "      <td>...</td>\n",
       "      <td>...</td>\n",
       "      <td>...</td>\n",
       "      <td>...</td>\n",
       "      <td>...</td>\n",
       "      <td>...</td>\n",
       "      <td>...</td>\n",
       "      <td>...</td>\n",
       "      <td>...</td>\n",
       "      <td>...</td>\n",
       "      <td>...</td>\n",
       "      <td>...</td>\n",
       "      <td>...</td>\n",
       "    </tr>\n",
       "    <tr>\n",
       "      <th>32556</th>\n",
       "      <td>27</td>\n",
       "      <td>Private</td>\n",
       "      <td>257302</td>\n",
       "      <td>12</td>\n",
       "      <td>Married-civ-spouse</td>\n",
       "      <td>Tech-support</td>\n",
       "      <td>Wife</td>\n",
       "      <td>White</td>\n",
       "      <td>Female</td>\n",
       "      <td>0</td>\n",
       "      <td>0</td>\n",
       "      <td>38</td>\n",
       "      <td>United-States</td>\n",
       "      <td>&lt;=50K</td>\n",
       "    </tr>\n",
       "    <tr>\n",
       "      <th>32557</th>\n",
       "      <td>40</td>\n",
       "      <td>Private</td>\n",
       "      <td>154374</td>\n",
       "      <td>9</td>\n",
       "      <td>Married-civ-spouse</td>\n",
       "      <td>Machine-op-inspct</td>\n",
       "      <td>Husband</td>\n",
       "      <td>White</td>\n",
       "      <td>Male</td>\n",
       "      <td>0</td>\n",
       "      <td>0</td>\n",
       "      <td>40</td>\n",
       "      <td>United-States</td>\n",
       "      <td>&gt;50K</td>\n",
       "    </tr>\n",
       "    <tr>\n",
       "      <th>32558</th>\n",
       "      <td>58</td>\n",
       "      <td>Private</td>\n",
       "      <td>151910</td>\n",
       "      <td>9</td>\n",
       "      <td>Widowed</td>\n",
       "      <td>Adm-clerical</td>\n",
       "      <td>Unmarried</td>\n",
       "      <td>White</td>\n",
       "      <td>Female</td>\n",
       "      <td>0</td>\n",
       "      <td>0</td>\n",
       "      <td>40</td>\n",
       "      <td>United-States</td>\n",
       "      <td>&lt;=50K</td>\n",
       "    </tr>\n",
       "    <tr>\n",
       "      <th>32559</th>\n",
       "      <td>22</td>\n",
       "      <td>Private</td>\n",
       "      <td>201490</td>\n",
       "      <td>9</td>\n",
       "      <td>Never-married</td>\n",
       "      <td>Adm-clerical</td>\n",
       "      <td>Own-child</td>\n",
       "      <td>White</td>\n",
       "      <td>Male</td>\n",
       "      <td>0</td>\n",
       "      <td>0</td>\n",
       "      <td>20</td>\n",
       "      <td>United-States</td>\n",
       "      <td>&lt;=50K</td>\n",
       "    </tr>\n",
       "    <tr>\n",
       "      <th>32560</th>\n",
       "      <td>52</td>\n",
       "      <td>Self-emp-inc</td>\n",
       "      <td>287927</td>\n",
       "      <td>9</td>\n",
       "      <td>Married-civ-spouse</td>\n",
       "      <td>Exec-managerial</td>\n",
       "      <td>Wife</td>\n",
       "      <td>White</td>\n",
       "      <td>Female</td>\n",
       "      <td>15024</td>\n",
       "      <td>0</td>\n",
       "      <td>40</td>\n",
       "      <td>United-States</td>\n",
       "      <td>&gt;50K</td>\n",
       "    </tr>\n",
       "  </tbody>\n",
       "</table>\n",
       "<p>30162 rows × 14 columns</p>\n",
       "</div>"
      ],
      "text/plain": [
       "       age          workclass  fnlwgt  education-num       marital-status  \\\n",
       "0       39          State-gov   77516             13        Never-married   \n",
       "1       50   Self-emp-not-inc   83311             13   Married-civ-spouse   \n",
       "2       38            Private  215646              9             Divorced   \n",
       "3       53            Private  234721              7   Married-civ-spouse   \n",
       "4       28            Private  338409             13   Married-civ-spouse   \n",
       "...    ...                ...     ...            ...                  ...   \n",
       "32556   27            Private  257302             12   Married-civ-spouse   \n",
       "32557   40            Private  154374              9   Married-civ-spouse   \n",
       "32558   58            Private  151910              9              Widowed   \n",
       "32559   22            Private  201490              9        Never-married   \n",
       "32560   52       Self-emp-inc  287927              9   Married-civ-spouse   \n",
       "\n",
       "               occupation    relationship    race      sex  capital-gain  \\\n",
       "0            Adm-clerical   Not-in-family   White     Male          2174   \n",
       "1         Exec-managerial         Husband   White     Male             0   \n",
       "2       Handlers-cleaners   Not-in-family   White     Male             0   \n",
       "3       Handlers-cleaners         Husband   Black     Male             0   \n",
       "4          Prof-specialty            Wife   Black   Female             0   \n",
       "...                   ...             ...     ...      ...           ...   \n",
       "32556        Tech-support            Wife   White   Female             0   \n",
       "32557   Machine-op-inspct         Husband   White     Male             0   \n",
       "32558        Adm-clerical       Unmarried   White   Female             0   \n",
       "32559        Adm-clerical       Own-child   White     Male             0   \n",
       "32560     Exec-managerial            Wife   White   Female         15024   \n",
       "\n",
       "       capital-loss  hours-per-week  native-country  salary  \n",
       "0                 0              40   United-States   <=50K  \n",
       "1                 0              13   United-States   <=50K  \n",
       "2                 0              40   United-States   <=50K  \n",
       "3                 0              40   United-States   <=50K  \n",
       "4                 0              40            Cuba   <=50K  \n",
       "...             ...             ...             ...     ...  \n",
       "32556             0              38   United-States   <=50K  \n",
       "32557             0              40   United-States    >50K  \n",
       "32558             0              40   United-States   <=50K  \n",
       "32559             0              20   United-States   <=50K  \n",
       "32560             0              40   United-States    >50K  \n",
       "\n",
       "[30162 rows x 14 columns]"
      ]
     },
     "execution_count": 7,
     "metadata": {},
     "output_type": "execute_result"
    }
   ],
   "source": [
    "df"
   ]
  },
  {
   "cell_type": "code",
   "execution_count": 8,
   "id": "e68ee289",
   "metadata": {
    "ExecuteTime": {
     "end_time": "2021-04-14T12:08:09.084544Z",
     "start_time": "2021-04-14T12:08:09.011586Z"
    }
   },
   "outputs": [],
   "source": [
    "df['workclass'] = labelencoder.fit_transform(df['workclass'])\n",
    "df['marital-status'] = labelencoder.fit_transform(df['marital-status'])\n",
    "df['occupation'] = labelencoder.fit_transform(df['occupation'])\n",
    "df['relationship'] = labelencoder.fit_transform(df['relationship'])\n",
    "df['sex'] = labelencoder.fit_transform(df['sex'])\n",
    "df['native-country'] = labelencoder.fit_transform(df['native-country'])\n",
    "df['salary'] = labelencoder.fit_transform(df['salary'])\n",
    "df['race'] = labelencoder.fit_transform(df['race'])\n",
    "\n",
    "td['workclass'] = labelencoder.fit_transform(td['workclass'])\n",
    "td['marital-status'] = labelencoder.fit_transform(td['marital-status'])\n",
    "td['occupation'] = labelencoder.fit_transform(td['occupation'])\n",
    "td['relationship'] = labelencoder.fit_transform(td['relationship'])\n",
    "td['sex'] = labelencoder.fit_transform(td['sex'])\n",
    "td['native-country'] = labelencoder.fit_transform(td['native-country'])\n",
    "td['salary'] = labelencoder.fit_transform(td['salary'])\n",
    "td['race'] = labelencoder.fit_transform(td['race'])"
   ]
  },
  {
   "cell_type": "code",
   "execution_count": 9,
   "id": "e27e749b",
   "metadata": {
    "ExecuteTime": {
     "end_time": "2021-04-14T12:08:09.111558Z",
     "start_time": "2021-04-14T12:08:09.085543Z"
    }
   },
   "outputs": [],
   "source": [
    "scaler = MinMaxScaler()\n",
    "\n",
    "#訓練集\n",
    "train1 = scaler.fit_transform(df)\n",
    "df = pd.DataFrame(train1,columns=df.columns)\n",
    "\n",
    "#驗證集\n",
    "train1 = scaler.fit_transform(td)\n",
    "td = pd.DataFrame(train1,columns=td.columns)"
   ]
  },
  {
   "cell_type": "code",
   "execution_count": 10,
   "id": "8e2e5c63",
   "metadata": {
    "ExecuteTime": {
     "end_time": "2021-04-14T12:08:09.123553Z",
     "start_time": "2021-04-14T12:08:09.112560Z"
    }
   },
   "outputs": [],
   "source": [
    "x_train,x_test,y_train,y_test = train_test_split(df,df_y,test_size=0.2)"
   ]
  },
  {
   "cell_type": "code",
   "execution_count": 11,
   "id": "f25ae924",
   "metadata": {
    "ExecuteTime": {
     "end_time": "2021-04-14T12:08:09.376426Z",
     "start_time": "2021-04-14T12:08:09.124552Z"
    }
   },
   "outputs": [
    {
     "name": "stdout",
     "output_type": "stream",
     "text": [
      "Model: \"sequential\"\n",
      "_________________________________________________________________\n",
      "Layer (type)                 Output Shape              Param #   \n",
      "=================================================================\n",
      "dense (Dense)                (None, 16)                240       \n",
      "_________________________________________________________________\n",
      "batch_normalization (BatchNo (None, 16)                64        \n",
      "_________________________________________________________________\n",
      "dense_1 (Dense)              (None, 32)                544       \n",
      "_________________________________________________________________\n",
      "batch_normalization_1 (Batch (None, 32)                128       \n",
      "_________________________________________________________________\n",
      "dense_2 (Dense)              (None, 64)                2112      \n",
      "_________________________________________________________________\n",
      "batch_normalization_2 (Batch (None, 64)                256       \n",
      "_________________________________________________________________\n",
      "dense_3 (Dense)              (None, 64)                4160      \n",
      "_________________________________________________________________\n",
      "batch_normalization_3 (Batch (None, 64)                256       \n",
      "_________________________________________________________________\n",
      "dense_4 (Dense)              (None, 32)                2080      \n",
      "_________________________________________________________________\n",
      "batch_normalization_4 (Batch (None, 32)                128       \n",
      "_________________________________________________________________\n",
      "dense_5 (Dense)              (None, 16)                528       \n",
      "_________________________________________________________________\n",
      "dropout (Dropout)            (None, 16)                0         \n",
      "_________________________________________________________________\n",
      "dense_6 (Dense)              (None, 16)                272       \n",
      "=================================================================\n",
      "Total params: 10,768\n",
      "Trainable params: 10,352\n",
      "Non-trainable params: 416\n",
      "_________________________________________________________________\n"
     ]
    }
   ],
   "source": [
    "model = Sequential()\n",
    "\n",
    "model.add(Input(shape=(x_train.shape[1],)))\n",
    "model.add(Dense(units=16, kernel_initializer='he_uniform', activation='elu'))\n",
    "model.add(BatchNormalization())\n",
    "model.add(Dense(units=32, kernel_initializer='he_uniform', activation='elu')) \n",
    "model.add(BatchNormalization())\n",
    "model.add(Dense(units=64, kernel_initializer='he_uniform', activation='elu'))\n",
    "model.add(BatchNormalization())\n",
    "# model.add(Dense(units=128, kernel_initializer='he_uniform', activation='relu'))\n",
    "# model.add(BatchNormalization())\n",
    "model.add(Dense(units=64, kernel_initializer='he_uniform', activation='elu'))\n",
    "model.add(BatchNormalization())\n",
    "model.add(Dense(units=32, kernel_initializer='he_uniform', activation='elu'))\n",
    "model.add(BatchNormalization())\n",
    "model.add(Dense(units=16, kernel_initializer='he_uniform', activation='elu'))\n",
    "model.add(Dropout(0.1))\n",
    "model.add(Dense(y_train.shape[1],activation='softmax'))\n",
    "\n",
    "model.summary()"
   ]
  },
  {
   "cell_type": "code",
   "execution_count": 12,
   "id": "59bab786",
   "metadata": {
    "ExecuteTime": {
     "end_time": "2021-04-14T12:08:09.393418Z",
     "start_time": "2021-04-14T12:08:09.377407Z"
    }
   },
   "outputs": [],
   "source": [
    "precision=tf.keras.metrics.Precision(name='precision')\n",
    "recall=tf.keras.metrics.Recall(name='recall')\n",
    "accuracy=tf.keras.metrics.Accuracy(name='accuracy')\n",
    "callback = tf.keras.callbacks.EarlyStopping(monitor='recall',mode='max', patience=15 ,restore_best_weights=True)"
   ]
  },
  {
   "cell_type": "code",
   "execution_count": 13,
   "id": "62ddb134",
   "metadata": {
    "ExecuteTime": {
     "end_time": "2021-04-14T12:08:09.405410Z",
     "start_time": "2021-04-14T12:08:09.394398Z"
    }
   },
   "outputs": [],
   "source": [
    "Adam = tf.optimizers.Adam(lr=0.003, beta_1=0.9, beta_2=0.997, epsilon=1e-08, decay=0.0)"
   ]
  },
  {
   "cell_type": "code",
   "execution_count": 14,
   "id": "335713e1",
   "metadata": {
    "ExecuteTime": {
     "end_time": "2021-04-14T12:08:09.422381Z",
     "start_time": "2021-04-14T12:08:09.407390Z"
    }
   },
   "outputs": [],
   "source": [
    "model.compile(optimizer=Adam, \n",
    "              loss=tf.keras.losses.CategoricalCrossentropy(from_logits=True),\n",
    "              metrics = [precision,recall,accuracy]\n",
    "              )"
   ]
  },
  {
   "cell_type": "code",
   "execution_count": 15,
   "id": "b7b3e658",
   "metadata": {
    "ExecuteTime": {
     "end_time": "2021-04-14T12:09:15.166167Z",
     "start_time": "2021-04-14T12:08:09.423382Z"
    }
   },
   "outputs": [
    {
     "name": "stdout",
     "output_type": "stream",
     "text": [
      "Epoch 1/20\n",
      "2413/2413 [==============================] - 5s 1ms/step - loss: 1.4744 - precision: 0.6041 - recall: 0.3231 - accuracy: 0.0000e+00\n",
      "Epoch 2/20\n",
      "2413/2413 [==============================] - 3s 1ms/step - loss: 0.9337 - precision: 0.7406 - recall: 0.5607 - accuracy: 0.0000e+00\n",
      "Epoch 3/20\n",
      "2413/2413 [==============================] - 3s 1ms/step - loss: 0.7630 - precision: 0.7831 - recall: 0.6377 - accuracy: 0.0000e+00\n",
      "Epoch 4/20\n",
      "2413/2413 [==============================] - 3s 1ms/step - loss: 0.6896 - precision: 0.7990 - recall: 0.6705 - accuracy: 0.0000e+00\n",
      "Epoch 5/20\n",
      "2413/2413 [==============================] - 3s 1ms/step - loss: 0.5920 - precision: 0.8204 - recall: 0.7267 - accuracy: 0.0000e+00\n",
      "Epoch 6/20\n",
      "2413/2413 [==============================] - 3s 1ms/step - loss: 0.5015 - precision: 0.8402 - recall: 0.7744 - accuracy: 0.0000e+00\n",
      "Epoch 7/20\n",
      "2413/2413 [==============================] - 3s 1ms/step - loss: 0.4283 - precision: 0.8640 - recall: 0.8139 - accuracy: 0.0000e+00\n",
      "Epoch 8/20\n",
      "2413/2413 [==============================] - 3s 1ms/step - loss: 0.3494 - precision: 0.8836 - recall: 0.8494 - accuracy: 0.0000e+00\n",
      "Epoch 9/20\n",
      "2413/2413 [==============================] - 3s 1ms/step - loss: 0.3162 - precision: 0.8943 - recall: 0.8689 - accuracy: 0.0000e+00\n",
      "Epoch 10/20\n",
      "2413/2413 [==============================] - 3s 1ms/step - loss: 0.2496 - precision: 0.9138 - recall: 0.9010 - accuracy: 0.0000e+00\n",
      "Epoch 11/20\n",
      "2413/2413 [==============================] - 3s 1ms/step - loss: 0.2290 - precision: 0.9233 - recall: 0.9111 - accuracy: 0.0000e+00\n",
      "Epoch 12/20\n",
      "2413/2413 [==============================] - 3s 1ms/step - loss: 0.2095 - precision: 0.9310 - recall: 0.9210 - accuracy: 0.0000e+00\n",
      "Epoch 13/20\n",
      "2413/2413 [==============================] - 3s 1ms/step - loss: 0.1831 - precision: 0.9408 - recall: 0.9347 - accuracy: 1.9095e-05\n",
      "Epoch 14/20\n",
      "2413/2413 [==============================] - 3s 1ms/step - loss: 0.1888 - precision: 0.9375 - recall: 0.9326 - accuracy: 2.4551e-05\n",
      "Epoch 15/20\n",
      "2413/2413 [==============================] - 3s 1ms/step - loss: 0.1654 - precision: 0.9450 - recall: 0.9410 - accuracy: 2.6425e-05\n",
      "Epoch 16/20\n",
      "2413/2413 [==============================] - 3s 1ms/step - loss: 0.1459 - precision: 0.9558 - recall: 0.9526 - accuracy: 2.4118e-04\n",
      "Epoch 17/20\n",
      "2413/2413 [==============================] - 3s 1ms/step - loss: 0.1266 - precision: 0.9567 - recall: 0.9545 - accuracy: 1.1049e-04\n",
      "Epoch 18/20\n",
      "2413/2413 [==============================] - 3s 1ms/step - loss: 0.1342 - precision: 0.9579 - recall: 0.9558 - accuracy: 1.5982e-04\n",
      "Epoch 19/20\n",
      "2413/2413 [==============================] - 3s 1ms/step - loss: 0.1232 - precision: 0.9619 - recall: 0.9593 - accuracy: 1.6676e-04\n",
      "Epoch 20/20\n",
      "2413/2413 [==============================] - 3s 1ms/step - loss: 0.0990 - precision: 0.9675 - recall: 0.9659 - accuracy: 3.9988e-04\n"
     ]
    }
   ],
   "source": [
    "history = model.fit(x=x_train, y=y_train,epochs=20,batch_size =10, callbacks=[callback])"
   ]
  },
  {
   "cell_type": "code",
   "execution_count": 17,
   "id": "d34c11c4",
   "metadata": {
    "ExecuteTime": {
     "end_time": "2021-04-14T12:09:19.133357Z",
     "start_time": "2021-04-14T12:09:18.838513Z"
    }
   },
   "outputs": [
    {
     "name": "stdout",
     "output_type": "stream",
     "text": [
      "189/189 [==============================] - 0s 686us/step - loss: 0.9990 - precision: 0.7531 - recall: 0.6844 - accuracy: 0.0000e+00\n",
      "Precision 0.7530549168586731\n",
      "Recall 0.6844024658203125\n",
      "F1 0.7170892830723793\n"
     ]
    },
    {
     "data": {
      "image/png": "[encoded data removed]",
      "text/plain": [
       "<Figure size 432x288 with 1 Axes>"
      ]
     },
     "metadata": {
      "needs_background": "light"
     },
     "output_type": "display_data"
    }
   ],
   "source": [
    "preds = model.evaluate(x = x_test, y = y_test)\n",
    "\n",
    "F1 = 2 * (preds[1] * preds[2]) / (preds[1] + preds[2])\n",
    "print('Precision', preds[1])\n",
    "print('Recall', preds[2])\n",
    "print('F1',F1)\n",
    "\n",
    "plt.plot(history.history['precision'])\n",
    "plt.plot(history.history['recall'])\n",
    "plt.title('model accuracy')\n",
    "plt.ylabel('%')\n",
    "plt.xlabel('epoch')\n",
    "plt.legend(['precision', 'recall'], loc='upper left')\n",
    "plt.show()"
   ]
  },
  {
   "cell_type": "code",
   "execution_count": null,
   "id": "452fd188",
   "metadata": {},
   "outputs": [],
   "source": []
  },
  {
   "cell_type": "code",
   "execution_count": null,
   "id": "ec10e340",
   "metadata": {},
   "outputs": [],
   "source": []
  },
  {
   "cell_type": "code",
   "execution_count": 17,
   "id": "748c37ee",
   "metadata": {
    "ExecuteTime": {
     "end_time": "2021-04-13T09:28:50.877766Z",
     "start_time": "2021-04-13T09:28:50.679877Z"
    }
   },
   "outputs": [
    {
     "name": "stdout",
     "output_type": "stream",
     "text": [
      "189/189 [==============================] - 0s 734us/step - loss: 0.0387 - precision: 0.9925 - recall: 0.9920 - accuracy: 0.0000e+00\n"
     ]
    }
   ],
   "source": [
    "y_test_predicted = model.evaluate(x_test,y_test)"
   ]
  },
  {
   "cell_type": "code",
   "execution_count": 18,
   "id": "7624342f",
   "metadata": {
    "ExecuteTime": {
     "end_time": "2021-04-13T09:28:50.883761Z",
     "start_time": "2021-04-13T09:28:50.878762Z"
    }
   },
   "outputs": [
    {
     "data": {
      "text/plain": [
       "[0.038728415966033936, 0.9925373196601868, 0.9920437335968018, 0.0]"
      ]
     },
     "execution_count": 18,
     "metadata": {},
     "output_type": "execute_result"
    }
   ],
   "source": [
    "y_test_predicted"
   ]
  },
  {
   "cell_type": "code",
   "execution_count": 19,
   "id": "93cb8151",
   "metadata": {
    "ExecuteTime": {
     "end_time": "2021-04-13T09:28:51.321536Z",
     "start_time": "2021-04-13T09:28:50.884760Z"
    }
   },
   "outputs": [
    {
     "name": "stdout",
     "output_type": "stream",
     "text": [
      "509/509 [==============================] - 0s 738us/step - loss: 0.0409 - precision: 0.9907 - recall: 0.9900 - accuracy: 0.0000e+00\n"
     ]
    }
   ],
   "source": [
    "td_predicted = model.evaluate(td,td_y)"
   ]
  },
  {
   "cell_type": "code",
   "execution_count": 20,
   "id": "79b6a173",
   "metadata": {
    "ExecuteTime": {
     "end_time": "2021-04-13T09:28:51.325507Z",
     "start_time": "2021-04-13T09:28:51.322506Z"
    }
   },
   "outputs": [
    {
     "data": {
      "text/plain": [
       "[0.04091738536953926, 0.9907191395759583, 0.9900497794151306, 0.0]"
      ]
     },
     "execution_count": 20,
     "metadata": {},
     "output_type": "execute_result"
    }
   ],
   "source": [
    "td_predicted"
   ]
  }
 ],
 "metadata": {
  "kernelspec": {
   "display_name": "Python 3",
   "language": "python",
   "name": "python3"
  },
  "language_info": {
   "codemirror_mode": {
    "name": "ipython",
    "version": 3
   },
   "file_extension": ".py",
   "mimetype": "text/x-python",
   "name": "python",
   "nbconvert_exporter": "python",
   "pygments_lexer": "ipython3",
   "version": "3.8.8"
  },
  "toc": {
   "base_numbering": 1,
   "nav_menu": {},
   "number_sections": true,
   "sideBar": true,
   "skip_h1_title": false,
   "title_cell": "Table of Contents",
   "title_sidebar": "Contents",
   "toc_cell": false,
   "toc_position": {
    "height": "calc(100% - 180px)",
    "left": "10px",
    "top": "150px",
    "width": "320px"
   },
   "toc_section_display": true,
   "toc_window_display": false
  }
 },
 "nbformat": 4,
 "nbformat_minor": 5
}
